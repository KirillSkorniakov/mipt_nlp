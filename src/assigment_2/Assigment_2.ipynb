{
 "cells": [
  {
   "cell_type": "code",
   "execution_count": 1,
   "metadata": {
    "collapsed": false
   },
   "outputs": [],
   "source": [
    "import pandas as pd\n",
    "import re\n",
    "from nltk.stem import WordNetLemmatizer\n",
    "from sklearn.feature_extraction.text import CountVectorizer, TfidfVectorizer\n",
    "from collections import Counter\n",
    "from nltk.corpus import stopwords\n",
    "from sklearn.cluster import KMeans, DBSCAN\n",
    "import numpy as np\n",
    "from functools import reduce\n",
    "from sklearn.decomposition import TruncatedSVD\n",
    "from sklearn.mixture import GaussianMixture\n",
    "from sklearn.decomposition import LatentDirichletAllocation\n",
    "import nltk\n",
    "from nltk.collocations import *"
   ]
  },
  {
   "cell_type": "markdown",
   "metadata": {},
   "source": [
    "# Загрузим датасет"
   ]
  },
  {
   "cell_type": "code",
   "execution_count": 2,
   "metadata": {
    "collapsed": true
   },
   "outputs": [],
   "source": [
    "df = pd.read_csv(\"../../data/Emails.csv\")"
   ]
  },
  {
   "cell_type": "markdown",
   "metadata": {},
   "source": [
    "# Посмотрим на него"
   ]
  },
  {
   "cell_type": "code",
   "execution_count": 3,
   "metadata": {
    "collapsed": false,
    "scrolled": true
   },
   "outputs": [
    {
     "data": {
      "text/html": [
       "<div>\n",
       "<table border=\"1\" class=\"dataframe\">\n",
       "  <thead>\n",
       "    <tr style=\"text-align: right;\">\n",
       "      <th></th>\n",
       "      <th>Id</th>\n",
       "      <th>DocNumber</th>\n",
       "      <th>MetadataSubject</th>\n",
       "      <th>MetadataTo</th>\n",
       "      <th>MetadataFrom</th>\n",
       "      <th>SenderPersonId</th>\n",
       "      <th>MetadataDateSent</th>\n",
       "      <th>MetadataDateReleased</th>\n",
       "      <th>MetadataPdfLink</th>\n",
       "      <th>MetadataCaseNumber</th>\n",
       "      <th>...</th>\n",
       "      <th>ExtractedTo</th>\n",
       "      <th>ExtractedFrom</th>\n",
       "      <th>ExtractedCc</th>\n",
       "      <th>ExtractedDateSent</th>\n",
       "      <th>ExtractedCaseNumber</th>\n",
       "      <th>ExtractedDocNumber</th>\n",
       "      <th>ExtractedDateReleased</th>\n",
       "      <th>ExtractedReleaseInPartOrFull</th>\n",
       "      <th>ExtractedBodyText</th>\n",
       "      <th>RawText</th>\n",
       "    </tr>\n",
       "  </thead>\n",
       "  <tbody>\n",
       "    <tr>\n",
       "      <th>0</th>\n",
       "      <td>1</td>\n",
       "      <td>C05739545</td>\n",
       "      <td>WOW</td>\n",
       "      <td>H</td>\n",
       "      <td>Sullivan, Jacob J</td>\n",
       "      <td>87.0</td>\n",
       "      <td>2012-09-12T04:00:00+00:00</td>\n",
       "      <td>2015-05-22T04:00:00+00:00</td>\n",
       "      <td>DOCUMENTS/HRC_Email_1_296/HRCH2/DOC_0C05739545...</td>\n",
       "      <td>F-2015-04841</td>\n",
       "      <td>...</td>\n",
       "      <td>NaN</td>\n",
       "      <td>Sullivan, Jacob J &lt;Sullivan11@state.gov&gt;</td>\n",
       "      <td>NaN</td>\n",
       "      <td>Wednesday, September 12, 2012 10:16 AM</td>\n",
       "      <td>F-2015-04841</td>\n",
       "      <td>C05739545</td>\n",
       "      <td>05/13/2015</td>\n",
       "      <td>RELEASE IN FULL</td>\n",
       "      <td>NaN</td>\n",
       "      <td>UNCLASSIFIED\\nU.S. Department of State\\nCase N...</td>\n",
       "    </tr>\n",
       "    <tr>\n",
       "      <th>1</th>\n",
       "      <td>2</td>\n",
       "      <td>C05739546</td>\n",
       "      <td>H: LATEST: HOW SYRIA IS AIDING QADDAFI AND MOR...</td>\n",
       "      <td>H</td>\n",
       "      <td>NaN</td>\n",
       "      <td>NaN</td>\n",
       "      <td>2011-03-03T05:00:00+00:00</td>\n",
       "      <td>2015-05-22T04:00:00+00:00</td>\n",
       "      <td>DOCUMENTS/HRC_Email_1_296/HRCH1/DOC_0C05739546...</td>\n",
       "      <td>F-2015-04841</td>\n",
       "      <td>...</td>\n",
       "      <td>NaN</td>\n",
       "      <td>NaN</td>\n",
       "      <td>NaN</td>\n",
       "      <td>NaN</td>\n",
       "      <td>F-2015-04841</td>\n",
       "      <td>C05739546</td>\n",
       "      <td>05/13/2015</td>\n",
       "      <td>RELEASE IN PART</td>\n",
       "      <td>B6\\nThursday, March 3, 2011 9:45 PM\\nH: Latest...</td>\n",
       "      <td>UNCLASSIFIED\\nU.S. Department of State\\nCase N...</td>\n",
       "    </tr>\n",
       "    <tr>\n",
       "      <th>2</th>\n",
       "      <td>3</td>\n",
       "      <td>C05739547</td>\n",
       "      <td>CHRIS STEVENS</td>\n",
       "      <td>;H</td>\n",
       "      <td>Mills, Cheryl D</td>\n",
       "      <td>32.0</td>\n",
       "      <td>2012-09-12T04:00:00+00:00</td>\n",
       "      <td>2015-05-22T04:00:00+00:00</td>\n",
       "      <td>DOCUMENTS/HRC_Email_1_296/HRCH2/DOC_0C05739547...</td>\n",
       "      <td>F-2015-04841</td>\n",
       "      <td>...</td>\n",
       "      <td>B6</td>\n",
       "      <td>Mills, Cheryl D &lt;MillsCD@state.gov&gt;</td>\n",
       "      <td>Abedin, Huma</td>\n",
       "      <td>Wednesday, September 12, 2012 11:52 AM</td>\n",
       "      <td>F-2015-04841</td>\n",
       "      <td>C05739547</td>\n",
       "      <td>05/14/2015</td>\n",
       "      <td>RELEASE IN PART</td>\n",
       "      <td>Thx</td>\n",
       "      <td>UNCLASSIFIED\\nU.S. Department of State\\nCase N...</td>\n",
       "    </tr>\n",
       "    <tr>\n",
       "      <th>3</th>\n",
       "      <td>4</td>\n",
       "      <td>C05739550</td>\n",
       "      <td>CAIRO CONDEMNATION - FINAL</td>\n",
       "      <td>H</td>\n",
       "      <td>Mills, Cheryl D</td>\n",
       "      <td>32.0</td>\n",
       "      <td>2012-09-12T04:00:00+00:00</td>\n",
       "      <td>2015-05-22T04:00:00+00:00</td>\n",
       "      <td>DOCUMENTS/HRC_Email_1_296/HRCH2/DOC_0C05739550...</td>\n",
       "      <td>F-2015-04841</td>\n",
       "      <td>...</td>\n",
       "      <td>NaN</td>\n",
       "      <td>Mills, Cheryl D &lt;MillsCD@state.gov&gt;</td>\n",
       "      <td>Mitchell, Andrew B</td>\n",
       "      <td>Wednesday, September 12,2012 12:44 PM</td>\n",
       "      <td>F-2015-04841</td>\n",
       "      <td>C05739550</td>\n",
       "      <td>05/13/2015</td>\n",
       "      <td>RELEASE IN PART</td>\n",
       "      <td>NaN</td>\n",
       "      <td>UNCLASSIFIED\\nU.S. Department of State\\nCase N...</td>\n",
       "    </tr>\n",
       "    <tr>\n",
       "      <th>4</th>\n",
       "      <td>5</td>\n",
       "      <td>C05739554</td>\n",
       "      <td>H: LATEST: HOW SYRIA IS AIDING QADDAFI AND MOR...</td>\n",
       "      <td>Abedin, Huma</td>\n",
       "      <td>H</td>\n",
       "      <td>80.0</td>\n",
       "      <td>2011-03-11T05:00:00+00:00</td>\n",
       "      <td>2015-05-22T04:00:00+00:00</td>\n",
       "      <td>DOCUMENTS/HRC_Email_1_296/HRCH1/DOC_0C05739554...</td>\n",
       "      <td>F-2015-04841</td>\n",
       "      <td>...</td>\n",
       "      <td>NaN</td>\n",
       "      <td>NaN</td>\n",
       "      <td>NaN</td>\n",
       "      <td>NaN</td>\n",
       "      <td>F-2015-04841</td>\n",
       "      <td>C05739554</td>\n",
       "      <td>05/13/2015</td>\n",
       "      <td>RELEASE IN PART</td>\n",
       "      <td>H &lt;hrod17@clintonemail.com&gt;\\nFriday, March 11,...</td>\n",
       "      <td>B6\\nUNCLASSIFIED\\nU.S. Department of State\\nCa...</td>\n",
       "    </tr>\n",
       "  </tbody>\n",
       "</table>\n",
       "<p>5 rows × 22 columns</p>\n",
       "</div>"
      ],
      "text/plain": [
       "   Id  DocNumber                                    MetadataSubject  \\\n",
       "0   1  C05739545                                                WOW   \n",
       "1   2  C05739546  H: LATEST: HOW SYRIA IS AIDING QADDAFI AND MOR...   \n",
       "2   3  C05739547                                      CHRIS STEVENS   \n",
       "3   4  C05739550                         CAIRO CONDEMNATION - FINAL   \n",
       "4   5  C05739554  H: LATEST: HOW SYRIA IS AIDING QADDAFI AND MOR...   \n",
       "\n",
       "     MetadataTo       MetadataFrom  SenderPersonId           MetadataDateSent  \\\n",
       "0             H  Sullivan, Jacob J            87.0  2012-09-12T04:00:00+00:00   \n",
       "1             H                NaN             NaN  2011-03-03T05:00:00+00:00   \n",
       "2            ;H    Mills, Cheryl D            32.0  2012-09-12T04:00:00+00:00   \n",
       "3             H    Mills, Cheryl D            32.0  2012-09-12T04:00:00+00:00   \n",
       "4  Abedin, Huma                  H            80.0  2011-03-11T05:00:00+00:00   \n",
       "\n",
       "        MetadataDateReleased  \\\n",
       "0  2015-05-22T04:00:00+00:00   \n",
       "1  2015-05-22T04:00:00+00:00   \n",
       "2  2015-05-22T04:00:00+00:00   \n",
       "3  2015-05-22T04:00:00+00:00   \n",
       "4  2015-05-22T04:00:00+00:00   \n",
       "\n",
       "                                     MetadataPdfLink MetadataCaseNumber  \\\n",
       "0  DOCUMENTS/HRC_Email_1_296/HRCH2/DOC_0C05739545...       F-2015-04841   \n",
       "1  DOCUMENTS/HRC_Email_1_296/HRCH1/DOC_0C05739546...       F-2015-04841   \n",
       "2  DOCUMENTS/HRC_Email_1_296/HRCH2/DOC_0C05739547...       F-2015-04841   \n",
       "3  DOCUMENTS/HRC_Email_1_296/HRCH2/DOC_0C05739550...       F-2015-04841   \n",
       "4  DOCUMENTS/HRC_Email_1_296/HRCH1/DOC_0C05739554...       F-2015-04841   \n",
       "\n",
       "                         ...                         ExtractedTo  \\\n",
       "0                        ...                                 NaN   \n",
       "1                        ...                                 NaN   \n",
       "2                        ...                                  B6   \n",
       "3                        ...                                 NaN   \n",
       "4                        ...                                 NaN   \n",
       "\n",
       "                              ExtractedFrom         ExtractedCc  \\\n",
       "0  Sullivan, Jacob J <Sullivan11@state.gov>                 NaN   \n",
       "1                                       NaN                 NaN   \n",
       "2       Mills, Cheryl D <MillsCD@state.gov>        Abedin, Huma   \n",
       "3       Mills, Cheryl D <MillsCD@state.gov>  Mitchell, Andrew B   \n",
       "4                                       NaN                 NaN   \n",
       "\n",
       "                        ExtractedDateSent ExtractedCaseNumber  \\\n",
       "0  Wednesday, September 12, 2012 10:16 AM        F-2015-04841   \n",
       "1                                     NaN        F-2015-04841   \n",
       "2  Wednesday, September 12, 2012 11:52 AM        F-2015-04841   \n",
       "3   Wednesday, September 12,2012 12:44 PM        F-2015-04841   \n",
       "4                                     NaN        F-2015-04841   \n",
       "\n",
       "  ExtractedDocNumber ExtractedDateReleased ExtractedReleaseInPartOrFull  \\\n",
       "0          C05739545            05/13/2015              RELEASE IN FULL   \n",
       "1          C05739546            05/13/2015              RELEASE IN PART   \n",
       "2          C05739547            05/14/2015              RELEASE IN PART   \n",
       "3          C05739550            05/13/2015              RELEASE IN PART   \n",
       "4          C05739554            05/13/2015              RELEASE IN PART   \n",
       "\n",
       "                                   ExtractedBodyText  \\\n",
       "0                                                NaN   \n",
       "1  B6\\nThursday, March 3, 2011 9:45 PM\\nH: Latest...   \n",
       "2                                                Thx   \n",
       "3                                                NaN   \n",
       "4  H <hrod17@clintonemail.com>\\nFriday, March 11,...   \n",
       "\n",
       "                                             RawText  \n",
       "0  UNCLASSIFIED\\nU.S. Department of State\\nCase N...  \n",
       "1  UNCLASSIFIED\\nU.S. Department of State\\nCase N...  \n",
       "2  UNCLASSIFIED\\nU.S. Department of State\\nCase N...  \n",
       "3  UNCLASSIFIED\\nU.S. Department of State\\nCase N...  \n",
       "4  B6\\nUNCLASSIFIED\\nU.S. Department of State\\nCa...  \n",
       "\n",
       "[5 rows x 22 columns]"
      ]
     },
     "execution_count": 3,
     "metadata": {},
     "output_type": "execute_result"
    }
   ],
   "source": [
    "df.head()"
   ]
  },
  {
   "cell_type": "markdown",
   "metadata": {},
   "source": [
    "Будем использовать поле ExtractedBodyText в предположении что всю \"обвязку\" из писем за нас удалили.\n",
    "Письма содержат адреса электронной почты, названия документов, даты."
   ]
  },
  {
   "cell_type": "code",
   "execution_count": 4,
   "metadata": {
    "collapsed": true
   },
   "outputs": [],
   "source": [
    "texts = df.ExtractedBodyText.fillna(\"\")"
   ]
  },
  {
   "cell_type": "code",
   "execution_count": 5,
   "metadata": {
    "collapsed": false,
    "scrolled": true
   },
   "outputs": [
    {
     "data": {
      "text/plain": [
       "['B6',\n",
       " 'Thursday, March 3, 2011 9:45 PM',\n",
       " 'H: Latest How Syria is aiding Qaddafi and more... Sid',\n",
       " 'hrc memo syria aiding libya 030311.docx; hrc memo syria aiding libya 030311.docx',\n",
       " 'March 3, 2011',\n",
       " 'For: Hillary']"
      ]
     },
     "execution_count": 5,
     "metadata": {},
     "output_type": "execute_result"
    }
   ],
   "source": [
    "texts[1].split(\"\\n\")"
   ]
  },
  {
   "cell_type": "code",
   "execution_count": 6,
   "metadata": {
    "collapsed": false
   },
   "outputs": [],
   "source": [
    "# немного своих стоп-слов\n",
    "my_stop_words = set(['would', 'know', 'also', 'tomorrow', 'want','think', 'today', 'sunday', 'huma',\n",
    "                     'thursday', 'september'])\n",
    "stop_words = set(stopwords.words(\"english\")).union(my_stop_words)\n",
    "lemmatizer = WordNetLemmatizer()\n",
    "\n",
    "def preprocess(text):\n",
    "    # уберем email-адреса\n",
    "    text = re.sub(r\"<[\\w\\.-]+@[\\w\\.-]+>\", \"EMAIL\", text.lower())\n",
    "    # заменим телефонные номера\n",
    "    text = re.sub(r\"([0-9]|0[0-9]|1[0-9]|2[0-3])(:|-)[0-5][0-9]\", \"\", text)\n",
    "    # заменим время\n",
    "    text = re.sub(r\" [0-9]+\\.?[0-9]*\", \" \", text)\n",
    "    # уберем url'ы\n",
    "    text = re.sub(r\"https?:\\\\/\\\\/(www\\\\.)?[-a-zA-Z0-9@:%._\\\\+~#=]{2,256}\\\\.[a-z]{2,6}\\\\b([-a-zA-Z0-9@:%_\\\\+.~#?&//=]*)\", \"\", text)\n",
    "    # уберем цифры\n",
    "    text = re.sub(\"\\d\", \" \", text)\n",
    "    text = re.sub(r\"\\W+\", \" \", text).strip()\n",
    "    text = (lemmatizer.lemmatize(word) for word in text.split() if len(word) > 3)\n",
    "    text = [word for word in text if not (word in stop_words)]\n",
    "    tags = nltk.pos_tag(text)\n",
    "    # оставим только существительные и глаголы\n",
    "    text = \" \".join([tag[0] for tag in tags if (\"NN\" in tag[1]) or (\"VB\" in tag[1])])\n",
    "    return text"
   ]
  },
  {
   "cell_type": "code",
   "execution_count": 7,
   "metadata": {
    "collapsed": false,
    "scrolled": true
   },
   "outputs": [],
   "source": [
    "corpora = re.sub(r\" +\", \" \", \" \".join((preprocess(text) for text in texts if text))).strip().split()\n",
    "letters_raw = (preprocess(text) for text in texts if text)\n",
    "# уберем короткие сообщения\n",
    "letters = np.array([letter for letter in letters_raw if len(letter.split()) > 3])"
   ]
  },
  {
   "cell_type": "code",
   "execution_count": 8,
   "metadata": {
    "collapsed": false
   },
   "outputs": [
    {
     "data": {
      "text/plain": [
       "(3798,)"
      ]
     },
     "execution_count": 8,
     "metadata": {},
     "output_type": "execute_result"
    }
   ],
   "source": [
    "letters.shape"
   ]
  },
  {
   "cell_type": "markdown",
   "metadata": {},
   "source": [
    "# Посмотрим на биграммы"
   ]
  },
  {
   "cell_type": "code",
   "execution_count": 9,
   "metadata": {
    "collapsed": false
   },
   "outputs": [],
   "source": [
    "bigram_measures = nltk.collocations.BigramAssocMeasures()\n",
    "finder = BigramCollocationFinder.from_words(corpora)\n",
    "finder.apply_freq_filter(3)\n"
   ]
  },
  {
   "cell_type": "code",
   "execution_count": 10,
   "metadata": {
    "collapsed": false,
    "scrolled": true
   },
   "outputs": [
    {
     "data": {
      "text/plain": [
       "[('abdul', 'ghani'),\n",
       " ('begin_of_the_skype_highlighting', 'end_of_the_skype_highlighting'),\n",
       " ('hong', 'kong'),\n",
       " ('jassim', 'jabr'),\n",
       " ('marwan', 'muasher'),\n",
       " ('ardebil', 'isfahan'),\n",
       " ('ashfaq', 'parvez'),\n",
       " ('markezi', 'hamedan'),\n",
       " ('drought', 'tolerant'),\n",
       " ('jabr', 'thani')]"
      ]
     },
     "execution_count": 10,
     "metadata": {},
     "output_type": "execute_result"
    }
   ],
   "source": [
    "finder.nbest(bigram_measures.pmi, 10)"
   ]
  },
  {
   "cell_type": "code",
   "execution_count": 11,
   "metadata": {
    "collapsed": false
   },
   "outputs": [
    {
     "data": {
      "text/plain": [
       "[(('state', 'department'), 539),\n",
       " (('secretary', 'office'), 462),\n",
       " (('department', 'state'), 364),\n",
       " (('secretary', 'state'), 261),\n",
       " (('state', 'dept'), 224),\n",
       " (('redaction', 'foia'), 216),\n",
       " (('house', 'select'), 216),\n",
       " (('information', 'redaction'), 216),\n",
       " (('produced', 'house'), 216),\n",
       " (('agreement', 'information'), 216)]"
      ]
     },
     "execution_count": 11,
     "metadata": {},
     "output_type": "execute_result"
    }
   ],
   "source": [
    "Counter(zip(corpora, corpora[1:])).most_common(10)"
   ]
  },
  {
   "cell_type": "markdown",
   "metadata": {},
   "source": [
    "# Сделаем самую простую кластеризацию Tf-idf + SVD + Kmeans"
   ]
  },
  {
   "cell_type": "code",
   "execution_count": 12,
   "metadata": {
    "collapsed": false
   },
   "outputs": [],
   "source": [
    "vectorizer = TfidfVectorizer(ngram_range=(1, 1), min_df=2, max_df=1000)\n",
    "matrix = vectorizer.fit_transform(letters).toarray()"
   ]
  },
  {
   "cell_type": "code",
   "execution_count": 13,
   "metadata": {
    "collapsed": false
   },
   "outputs": [],
   "source": [
    "svd = TruncatedSVD(n_components=2000)\n",
    "features = svd.fit_transform(matrix)"
   ]
  },
  {
   "cell_type": "code",
   "execution_count": 14,
   "metadata": {
    "collapsed": false
   },
   "outputs": [
    {
     "data": {
      "text/plain": [
       "0.95584916536981757"
      ]
     },
     "execution_count": 14,
     "metadata": {},
     "output_type": "execute_result"
    }
   ],
   "source": [
    "svd.explained_variance_ratio_.sum()"
   ]
  },
  {
   "cell_type": "code",
   "execution_count": 15,
   "metadata": {
    "collapsed": false
   },
   "outputs": [],
   "source": [
    "n_clusters = 10\n",
    "kmeans = KMeans(n_clusters=n_clusters)\n",
    "preds = kmeans.fit_predict(features)"
   ]
  },
  {
   "cell_type": "markdown",
   "metadata": {},
   "source": [
    "# Представим кластеры топом их слов по tf-idf"
   ]
  },
  {
   "cell_type": "code",
   "execution_count": 16,
   "metadata": {
    "collapsed": true
   },
   "outputs": [],
   "source": [
    "def cluster_representation(cluster, n):\n",
    "    joined_text = \" \".join(cluster)\n",
    "    representation = vectorizer.transform([joined_text])\n",
    "    feature_array = np.array(vectorizer.get_feature_names())\n",
    "    \n",
    "    tfidf_sorting = np.argsort(representation.toarray()).flatten()[::-1]\n",
    "\n",
    "    top_n = feature_array[tfidf_sorting][:n]\n",
    "    return top_n"
   ]
  },
  {
   "cell_type": "code",
   "execution_count": 17,
   "metadata": {
    "collapsed": false,
    "scrolled": true
   },
   "outputs": [
    {
     "name": "stdout",
     "output_type": "stream",
     "text": [
      "cluster size:  395\n",
      "['said' 'president' 'state' 'party' 'year' 'government' 'obama' 'woman'\n",
      " 'clinton' 'time']\n",
      "cluster size:  252\n",
      "['work' 'time' 'draft' 'make' 'thanks' 'week' 'need' 'schedule' 'thank'\n",
      " 'year']\n",
      "cluster size:  303\n",
      "['call' 'sheet' 'talk' 'email' 'called' 'need' 'confirmed' 'oscar' 'secure'\n",
      " 'asked']\n",
      "cluster size:  128\n",
      "['state' 'benghazi' 'redaction' 'foia' 'select' 'comm' 'dept' 'produced'\n",
      " 'information' 'agreement']\n",
      "cluster size:  77\n",
      "['office' 'secretary' 'room' 'route' 'meeting' 'residence' 'department'\n",
      " 'depart' 'state' 'conference']\n",
      "cluster size:  1916\n",
      "['state' 'meeting' 'talk' 'sent' 'make' 'going' 'week' 'speech' 'message'\n",
      " 'need']\n",
      "cluster size:  123\n",
      "['sullivan' 'jacob' 'email' 'mill' 'cheryl' 'abedin' 'august' 'reines'\n",
      " 'wednesday' 'anne']\n",
      "cluster size:  167\n",
      "['mill' 'cheryl' 'email' 'friday' 'april' 'saturday' 'tuesday' 'wednesday'\n",
      " 'june' 'state']\n",
      "cluster size:  363\n",
      "['email' 'state' 'abedin' 'wednesday' 'monday' 'saturday' 'jilotylc'\n",
      " 'print' 'sullivanjj' 'august']\n",
      "cluster size:  74\n",
      "['memo' 'docx' 'libya' 'november' 'hillary' 'sent' 'print' 'aiding'\n",
      " 'backdrop' 'syria']\n"
     ]
    }
   ],
   "source": [
    "for i in range(n_clusters):\n",
    "    print(\"cluster size: \", letters[preds == i].shape[0])\n",
    "    print(cluster_representation(letters[preds == i], n_clusters))"
   ]
  },
  {
   "cell_type": "code",
   "execution_count": 18,
   "metadata": {
    "collapsed": true
   },
   "outputs": [],
   "source": [
    "n_clusters = 10\n",
    "clustering = GaussianMixture(n_components=n_clusters)\n",
    "clustering.fit(features)\n",
    "preds = clustering.predict(features)"
   ]
  },
  {
   "cell_type": "code",
   "execution_count": 19,
   "metadata": {
    "collapsed": false
   },
   "outputs": [
    {
     "name": "stdout",
     "output_type": "stream",
     "text": [
      "cluster size:  198\n",
      "['mill' 'cheryl' 'email' 'sullivan' 'jacob' 'april' 'friday' 'tuesday'\n",
      " 'august' 'saturday']\n",
      "cluster size:  463\n",
      "['state' 'said' 'president' 'government' 'year' 'house' 'party' 'obama'\n",
      " 'people' 'clinton']\n",
      "cluster size:  191\n",
      "['time' 'send' 'cent' 'work' 'morning' 'shift' 'week' 'talk' 'need'\n",
      " 'schedule']\n",
      "cluster size:  118\n",
      "['thanks' 'hope' 'work' 'strobe' 'year' 'jake' 'help' 'working' 'talbott'\n",
      " 'email']\n",
      "cluster size:  143\n",
      "['office' 'secretary' 'room' 'route' 'meeting' 'department' 'residence'\n",
      " 'state' 'depart' 'conference']\n",
      "cluster size:  96\n",
      "['draft' 'edits' 'speech' 'comment' 'work' 'change' 'jake' 'getting'\n",
      " 'version' 'send']\n",
      "cluster size:  62\n",
      "['hrod' 'jilotylc' 'clintonemail' 'state' 'print' 'email' 'monday' 'libya'\n",
      " 'october' 'tuesday']\n",
      "cluster size:  326\n",
      "['call' 'sheet' 'talk' 'email' 'need' 'called' 'confirmed' 'point' 'work'\n",
      " 'oscar']\n",
      "cluster size:  364\n",
      "['email' 'abedin' 'sullivan' 'jacob' 'state' 'wednesday' 'saturday'\n",
      " 'august' 'monday' 'sullivanjj']\n",
      "cluster size:  1837\n",
      "['state' 'work' 'meeting' 'sent' 'talk' 'need' 'make' 'week' 'going'\n",
      " 'message']\n"
     ]
    }
   ],
   "source": [
    "for i in range(n_clusters):\n",
    "    print(\"cluster size: \", letters[preds == i].shape[0])\n",
    "    print(cluster_representation(letters[preds == i], n_clusters))"
   ]
  },
  {
   "cell_type": "markdown",
   "metadata": {},
   "source": [
    "# Попробуем dbscan"
   ]
  },
  {
   "cell_type": "code",
   "execution_count": 20,
   "metadata": {
    "collapsed": false
   },
   "outputs": [],
   "source": [
    "clustering = DBSCAN()\n",
    "preds = clustering.fit_predict(features)"
   ]
  },
  {
   "cell_type": "code",
   "execution_count": 21,
   "metadata": {
    "collapsed": false,
    "scrolled": true
   },
   "outputs": [
    {
     "name": "stdout",
     "output_type": "stream",
     "text": [
      "cluster size:  3743\n",
      "['state' 'said' 'president' 'time' 'secretary' 'office' 'year' 'house'\n",
      " 'government' 'people']\n",
      "cluster size:  10\n",
      "['state' 'foia' 'redaction' 'select' 'benghazi' 'comm' 'dept' 'produced'\n",
      " 'information' 'date']\n",
      "cluster size:  7\n",
      "['mail' 'mswashdcib' 'washdc' 'received' 'state' 'vance' 'message'\n",
      " 'address' 'system' 'mapi']\n",
      "cluster size:  9\n",
      "['office' 'secretary' 'airport' 'meeting' 'route' 'depart' 'room'\n",
      " 'residence' 'york' 'laguardia']\n",
      "cluster size:  5\n",
      "['laszczychj' 'toiv' 'toivnf' 'laszczych' 'joanne' 'traveling' 'state'\n",
      " 'access' 'contact' 'reach']\n",
      "cluster size:  11\n",
      "['valmoro' 'lona' 'assistant' 'secretary' 'state' 'follow' 'course'\n",
      " 'office' 'work' 'examine']\n",
      "cluster size:  5\n",
      "['laszczych' 'reach' 'please' 'joanne' 'emergency' 'traveling' 'toiv'\n",
      " 'toivnf' 'operation' 'business']\n",
      "cluster size:  8\n",
      "['office' 'secretary' 'meeting' 'room' 'residence' 'department' 'route'\n",
      " 'conference' 'outer' 'staff']\n"
     ]
    }
   ],
   "source": [
    "clusters = list(np.unique(preds))\n",
    "for i in clusters:\n",
    "    print(\"cluster size: \", letters[preds == i].shape[0])\n",
    "    print(cluster_representation(letters[preds == i], n_clusters))"
   ]
  },
  {
   "cell_type": "markdown",
   "metadata": {},
   "source": [
    "# Попробуем topic modeling"
   ]
  },
  {
   "cell_type": "code",
   "execution_count": 23,
   "metadata": {
    "collapsed": false
   },
   "outputs": [
    {
     "name": "stderr",
     "output_type": "stream",
     "text": [
      "/usr/local/lib/python3.4/dist-packages/sklearn/decomposition/online_lda.py:508: DeprecationWarning: The default value for 'learning_method' will be changed from 'online' to 'batch' in the release 0.20. This warning was introduced in 0.18.\n",
      "  DeprecationWarning)\n"
     ]
    }
   ],
   "source": [
    "n_clusters = 10\n",
    "\n",
    "vectorizer = CountVectorizer(ngram_range=(1, 1), min_df=2, max_df=1000)\n",
    "matrix = vectorizer.fit_transform(letters).toarray()\n",
    "clustering = LatentDirichletAllocation(n_topics=n_clusters, max_iter=30,\n",
    "                                learning_offset=50.,\n",
    "                                random_state=0)\n",
    "preds = clustering.fit_transform(matrix)"
   ]
  },
  {
   "cell_type": "markdown",
   "metadata": {},
   "source": [
    "Для tm будем оценивать интерпритируемость с помощью терминов для каждой темы"
   ]
  },
  {
   "cell_type": "code",
   "execution_count": 24,
   "metadata": {
    "collapsed": false
   },
   "outputs": [
    {
     "name": "stdout",
     "output_type": "stream",
     "text": [
      "topic num:  0\n",
      "jake monday talk sent sullivan state mill cheryl call email\n",
      "topic num:  1\n",
      "dept agreement case date benghazi secretary information house department state\n",
      "topic num:  2\n",
      "family need year health help working haiti people work woman\n",
      "topic num:  3\n",
      "source morale soccer mcgraw lot rebel troop gillibrand ambassador feedback\n",
      "topic num:  4\n",
      "depart time department residence conference route room meeting secretary office\n",
      "topic num:  5\n",
      "organization blackberry wing wireless wilson sent wilder district charles koch\n",
      "topic num:  6\n",
      "clinton policy obama party government year time state president said\n",
      "topic num:  7\n",
      "microcredit lois lamplighter quam strategist game move kyrgyzstan procurement egypt\n",
      "topic num:  8\n",
      "background flotilla palin death abortion book movement skousen image beck\n",
      "topic num:  9\n",
      "palin romney rating approval president democrat vote voter poll percent\n"
     ]
    }
   ],
   "source": [
    "n_words = 10\n",
    "for topic_idx, topic in enumerate(clustering.components_):\n",
    "    print(\"topic num: \", topic_idx)\n",
    "    print(\" \".join([vectorizer.get_feature_names()[i] for i in topic.argsort()[-n_words:]]))"
   ]
  },
  {
   "cell_type": "markdown",
   "metadata": {
    "collapsed": true
   },
   "source": [
    "# Оценка интерпритируемости кластеров"
   ]
  },
  {
   "cell_type": "markdown",
   "metadata": {},
   "source": [
    "На мой взгляд, для оценки интерпретируемости кластеров нужно спрашивать про кластер интерпритируем ли он?\n",
    "Потому что не понятно что такое интерпретируемость (с формальной точки зрения). Собственно для этого и нужны эксперты.\n",
    "\n",
    "Неплохо также написать развернутый манифест, в котором будут примеры интерпритируемых и плохо интерпретируемых тем.\n",
    "\n",
    "Пример манифеста:\n",
    "\n",
    "Хорошо интерпретируемые кластеры:\n",
    "\n",
    "слова по теме спорт: штанга, гриф, рывок, толчок.\n",
    "\n",
    "плохо интерпретирумый: крокодил, галоша, сыр.\n",
    "\n",
    "\n",
    "Непонятно как сравнивать кластеризации с разным числом кластеров, пусть это будет доля интерпретируемых кластеров к общему числу кластеров."
   ]
  },
  {
   "cell_type": "markdown",
   "metadata": {},
   "source": [
    "По результатам кластеризации видно, что большая часть писем скатывается в один большой кластер.\n",
    "\n",
    "Привидем результаты работы ассесора:\n",
    "\n",
    "kmeans: 0.6\n",
    "\n",
    "em: 0.6\n",
    "\n",
    "dbscan: 0.625\n",
    "\n",
    "tm: 0.8"
   ]
  },
  {
   "cell_type": "code",
   "execution_count": null,
   "metadata": {
    "collapsed": true
   },
   "outputs": [],
   "source": []
  }
 ],
 "metadata": {
  "kernelspec": {
   "display_name": "Python 3",
   "language": "python",
   "name": "python3"
  },
  "language_info": {
   "codemirror_mode": {
    "name": "ipython",
    "version": 3
   },
   "file_extension": ".py",
   "mimetype": "text/x-python",
   "name": "python",
   "nbconvert_exporter": "python",
   "pygments_lexer": "ipython3",
   "version": "3.4.3"
  }
 },
 "nbformat": 4,
 "nbformat_minor": 1
}
