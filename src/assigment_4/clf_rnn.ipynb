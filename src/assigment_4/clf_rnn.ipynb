{
 "cells": [
  {
   "cell_type": "markdown",
   "metadata": {},
   "source": [
    "# Deep learning for Natural Language Processing\n",
    "\n",
    "\n",
    " * Simple text representations, bag of words\n",
    " * Word embedding and... not just another word2vec this time\n",
    " * rnn for text\n",
    " * Aggregating several data sources \"the hard way\"\n",
    " * Solving ~somewhat~ real ML problem with ~almost~ end-to-end deep learning\n",
    " \n",
    "\n",
    "Special thanks to Irina Golzmann for help with technical part, task prepared by Александр Панин, jheuristic@yandex-team.ru"
   ]
  },
  {
   "cell_type": "markdown",
   "metadata": {},
   "source": [
    "# NLTK\n",
    "\n",
    "You will require nltk v3.2 to solve this assignment\n",
    "\n",
    "__It is really important that the version is 3.2, otherwize russian tokenizer might not work__\n",
    "\n",
    "Install/update\n",
    "* `sudo pip install --upgrade nltk==3.2`\n",
    "* If you don't remember when was the last pip upgrade, `sudo pip install --upgrade pip`\n",
    "\n",
    "If for some reason you can't or won't switch to nltk v3.2, just make sure that russian words are tokenized properly with RegeExpTokenizer."
   ]
  },
  {
   "cell_type": "markdown",
   "metadata": {},
   "source": [
    "# For students with low-RAM machines\n",
    " * This assignment can be accomplished with even the low-tier hardware (<= 4Gb RAM) \n",
    " * If that is the case, turn flag \"low_RAM_mode\" below to True\n",
    " * If you have around 8GB memory, it is unlikely that you will feel constrained by memory.\n",
    " * In case you are using a PC from last millenia, consider setting very_low_RAM=True"
   ]
  },
  {
   "cell_type": "code",
   "execution_count": 1,
   "metadata": {
    "collapsed": true
   },
   "outputs": [],
   "source": [
    "low_RAM_mode = False\n",
    "very_low_RAM = False  #If you have <3GB RAM, set BOTH to true"
   ]
  },
  {
   "cell_type": "code",
   "execution_count": 2,
   "metadata": {
    "collapsed": true
   },
   "outputs": [],
   "source": [
    "import pandas as pd\n",
    "import numpy as np\n",
    "import matplotlib.pyplot as plt\n",
    "%matplotlib inline"
   ]
  },
  {
   "cell_type": "markdown",
   "metadata": {},
   "source": [
    "# Dataset\n",
    "\n",
    "Ex-kaggle-competition on prohibited content detection\n",
    "\n",
    "There goes the description - https://www.kaggle.com/c/avito-prohibited-content\n",
    "\n",
    "\n",
    "### Download\n",
    "High-RAM mode,\n",
    " * Download avito_train.tsv from competition data files\n",
    "Low-RAM-mode,\n",
    " * Download downsampled dataset from here\n",
    "     * archive https://yadi.sk/d/l0p4lameqw3W8\n",
    "     * raw https://yadi.sk/d/I1v7mZ6Sqw2WK (in case you feel masochistic)\n",
    " \n",
    "\n",
    "\n",
    "\n",
    "\n",
    "# What's inside\n",
    "Different kinds of features:\n",
    "* 2 text fields - title and description\n",
    "* Special features - price, number of e-mails, phones, etc\n",
    "* Category and subcategory - unsurprisingly, categorical features\n",
    "* Attributes - more factors\n",
    "\n",
    "Only 1 binary target whether or not such advertisement contains prohibited materials\n",
    "* criminal, misleading, human reproduction-related, etc\n",
    "* diving into the data may result in prolonged sleep disorders"
   ]
  },
  {
   "cell_type": "code",
   "execution_count": 3,
   "metadata": {
    "collapsed": true
   },
   "outputs": [],
   "source": [
    "if not low_RAM_mode:\n",
    "    # a lot of ram\n",
    "    df = pd.read_csv(\"avito_train_1kk.tsv\",sep='\\t')\n",
    "else:\n",
    "    #aroung 4GB ram\n",
    "    df = pd.read_csv(\"avito_train_1kk.tsv\",sep='\\t')\n",
    " "
   ]
  },
  {
   "cell_type": "code",
   "execution_count": 4,
   "metadata": {},
   "outputs": [
    {
     "name": "stdout",
     "output_type": "stream",
     "text": [
      "(1204949, 13) 0.228222107326\n"
     ]
    },
    {
     "data": {
      "text/html": [
       "<div>\n",
       "<table border=\"1\" class=\"dataframe\">\n",
       "  <thead>\n",
       "    <tr style=\"text-align: right;\">\n",
       "      <th></th>\n",
       "      <th>itemid</th>\n",
       "      <th>category</th>\n",
       "      <th>subcategory</th>\n",
       "      <th>title</th>\n",
       "      <th>description</th>\n",
       "      <th>attrs</th>\n",
       "      <th>price</th>\n",
       "      <th>is_proved</th>\n",
       "      <th>is_blocked</th>\n",
       "      <th>phones_cnt</th>\n",
       "      <th>emails_cnt</th>\n",
       "      <th>urls_cnt</th>\n",
       "      <th>close_hours</th>\n",
       "    </tr>\n",
       "  </thead>\n",
       "  <tbody>\n",
       "    <tr>\n",
       "      <th>0</th>\n",
       "      <td>10000010</td>\n",
       "      <td>Транспорт</td>\n",
       "      <td>Автомобили с пробегом</td>\n",
       "      <td>Toyota Sera, 1991</td>\n",
       "      <td>Новая оригинальная линзованая оптика на ксенон...</td>\n",
       "      <td>{\"Год выпуска\":\"1991\", \"Тип кузова\":\"Купе\", \"П...</td>\n",
       "      <td>150000</td>\n",
       "      <td>NaN</td>\n",
       "      <td>0</td>\n",
       "      <td>0</td>\n",
       "      <td>0</td>\n",
       "      <td>0</td>\n",
       "      <td>0.03</td>\n",
       "    </tr>\n",
       "    <tr>\n",
       "      <th>1</th>\n",
       "      <td>10000094</td>\n",
       "      <td>Личные вещи</td>\n",
       "      <td>Одежда, обувь, аксессуары</td>\n",
       "      <td>Костюм Steilmann</td>\n",
       "      <td>Юбка и топ из панбархата. Под топ  трикотажная...</td>\n",
       "      <td>{\"Вид одежды\":\"Женская одежда\", \"Предмет одежд...</td>\n",
       "      <td>1500</td>\n",
       "      <td>NaN</td>\n",
       "      <td>0</td>\n",
       "      <td>0</td>\n",
       "      <td>0</td>\n",
       "      <td>0</td>\n",
       "      <td>0.41</td>\n",
       "    </tr>\n",
       "    <tr>\n",
       "      <th>2</th>\n",
       "      <td>10000299</td>\n",
       "      <td>Личные вещи</td>\n",
       "      <td>Детская одежда и обувь</td>\n",
       "      <td>Костюм Didriksons Boardman, размер 100, краги,...</td>\n",
       "      <td>Костюм Didriksons Boardman, в отличном состоян...</td>\n",
       "      <td>{\"Вид одежды\":\"Для мальчиков\", \"Предмет одежды...</td>\n",
       "      <td>3000</td>\n",
       "      <td>NaN</td>\n",
       "      <td>0</td>\n",
       "      <td>0</td>\n",
       "      <td>0</td>\n",
       "      <td>0</td>\n",
       "      <td>5.49</td>\n",
       "    </tr>\n",
       "    <tr>\n",
       "      <th>3</th>\n",
       "      <td>10000309</td>\n",
       "      <td>Недвижимость</td>\n",
       "      <td>Квартиры</td>\n",
       "      <td>1-к квартира, 44 м², 9/20 эт.</td>\n",
       "      <td>В кирпичном пан.-м доме, продается одноком.-ая...</td>\n",
       "      <td>{\"Тип объявления\":\"Продам\", \"Количество комнат...</td>\n",
       "      <td>2642020</td>\n",
       "      <td>NaN</td>\n",
       "      <td>0</td>\n",
       "      <td>1</td>\n",
       "      <td>0</td>\n",
       "      <td>0</td>\n",
       "      <td>22.47</td>\n",
       "    </tr>\n",
       "    <tr>\n",
       "      <th>4</th>\n",
       "      <td>10000317</td>\n",
       "      <td>Услуги</td>\n",
       "      <td>Предложения услуг</td>\n",
       "      <td>Поездки на таможню, печать в паспорте</td>\n",
       "      <td>Поездки на таможню гражданам СНГ для пересечен...</td>\n",
       "      <td>{\"Вид услуги\":\"Деловые услуги\", \"Тип услуги\":\"...</td>\n",
       "      <td>1500</td>\n",
       "      <td>0.0</td>\n",
       "      <td>1</td>\n",
       "      <td>0</td>\n",
       "      <td>0</td>\n",
       "      <td>0</td>\n",
       "      <td>1.43</td>\n",
       "    </tr>\n",
       "  </tbody>\n",
       "</table>\n",
       "</div>"
      ],
      "text/plain": [
       "     itemid      category                subcategory  \\\n",
       "0  10000010     Транспорт      Автомобили с пробегом   \n",
       "1  10000094   Личные вещи  Одежда, обувь, аксессуары   \n",
       "2  10000299   Личные вещи     Детская одежда и обувь   \n",
       "3  10000309  Недвижимость                   Квартиры   \n",
       "4  10000317        Услуги          Предложения услуг   \n",
       "\n",
       "                                               title  \\\n",
       "0                                  Toyota Sera, 1991   \n",
       "1                                   Костюм Steilmann   \n",
       "2  Костюм Didriksons Boardman, размер 100, краги,...   \n",
       "3                      1-к квартира, 44 м², 9/20 эт.   \n",
       "4              Поездки на таможню, печать в паспорте   \n",
       "\n",
       "                                         description  \\\n",
       "0  Новая оригинальная линзованая оптика на ксенон...   \n",
       "1  Юбка и топ из панбархата. Под топ  трикотажная...   \n",
       "2  Костюм Didriksons Boardman, в отличном состоян...   \n",
       "3  В кирпичном пан.-м доме, продается одноком.-ая...   \n",
       "4  Поездки на таможню гражданам СНГ для пересечен...   \n",
       "\n",
       "                                               attrs    price  is_proved  \\\n",
       "0  {\"Год выпуска\":\"1991\", \"Тип кузова\":\"Купе\", \"П...   150000        NaN   \n",
       "1  {\"Вид одежды\":\"Женская одежда\", \"Предмет одежд...     1500        NaN   \n",
       "2  {\"Вид одежды\":\"Для мальчиков\", \"Предмет одежды...     3000        NaN   \n",
       "3  {\"Тип объявления\":\"Продам\", \"Количество комнат...  2642020        NaN   \n",
       "4  {\"Вид услуги\":\"Деловые услуги\", \"Тип услуги\":\"...     1500        0.0   \n",
       "\n",
       "   is_blocked  phones_cnt  emails_cnt  urls_cnt  close_hours  \n",
       "0           0           0           0         0         0.03  \n",
       "1           0           0           0         0         0.41  \n",
       "2           0           0           0         0         5.49  \n",
       "3           0           1           0         0        22.47  \n",
       "4           1           0           0         0         1.43  "
      ]
     },
     "execution_count": 4,
     "metadata": {},
     "output_type": "execute_result"
    }
   ],
   "source": [
    "print(df.shape, df.is_blocked.mean())\n",
    "df.head(5)"
   ]
  },
  {
   "cell_type": "markdown",
   "metadata": {},
   "source": [
    "![caption](https://kaggle2.blob.core.windows.net/competitions/kaggle/3929/media/Ad.png)"
   ]
  },
  {
   "cell_type": "code",
   "execution_count": 5,
   "metadata": {},
   "outputs": [
    {
     "name": "stdout",
     "output_type": "stream",
     "text": [
      "Blocked ratio 0.228222107326\n",
      "Count: 1204949\n"
     ]
    }
   ],
   "source": [
    "print(\"Blocked ratio\",df.is_blocked.mean())\n",
    "print(\"Count:\",len(df))"
   ]
  },
  {
   "cell_type": "code",
   "execution_count": 6,
   "metadata": {},
   "outputs": [
    {
     "data": {
      "text/plain": [
       "274996"
      ]
     },
     "execution_count": 6,
     "metadata": {},
     "output_type": "execute_result"
    }
   ],
   "source": [
    "len(df[df.is_blocked == 1])"
   ]
  },
  {
   "cell_type": "markdown",
   "metadata": {},
   "source": [
    "# Balance-out the classes\n",
    "* Vast majority of data samples are non-prohibited\n",
    " * 250k banned out of 4kk\n",
    " * Let's just downsample random 250k legal samples to make further steps less computationally demanding\n",
    " * If you aim for high Kaggle score, consider a smarter approach to that.\n"
   ]
  },
  {
   "cell_type": "code",
   "execution_count": 7,
   "metadata": {},
   "outputs": [
    {
     "name": "stdout",
     "output_type": "stream",
     "text": [
      "Blocked ratio: 0.5\n",
      "Count: 549992\n"
     ]
    }
   ],
   "source": [
    "#downsample\n",
    "\n",
    "blocked_count = len(df[df.is_blocked == 1])\n",
    "not_blocked_count = len(df[df.is_blocked == 0])\n",
    "\n",
    "df = pd.concat([df[df.is_blocked == 0].sample(frac=(blocked_count / not_blocked_count)), \n",
    "                df[df.is_blocked == 1]]).sample(frac=1).reset_index(drop=True)\n",
    "\n",
    "print(\"Blocked ratio:\",df.is_blocked.mean())\n",
    "print(\"Count:\",len(df))"
   ]
  },
  {
   "cell_type": "code",
   "execution_count": 8,
   "metadata": {},
   "outputs": [
    {
     "name": "stdout",
     "output_type": "stream",
     "text": [
      "All tests passed\n"
     ]
    }
   ],
   "source": [
    "assert df.is_blocked.mean() < 0.51\n",
    "assert df.is_blocked.mean() > 0.49\n",
    "assert len(df) <= 560000\n",
    "\n",
    "print(\"All tests passed\")"
   ]
  },
  {
   "cell_type": "code",
   "execution_count": 9,
   "metadata": {
    "collapsed": true
   },
   "outputs": [
    {
     "ename": "NameError",
     "evalue": "name 'very_low_ram' is not defined",
     "output_type": "error",
     "traceback": [
      "\u001b[0;31m---------------------------------------------------------------------------\u001b[0m",
      "\u001b[0;31mNameError\u001b[0m                                 Traceback (most recent call last)",
      "\u001b[0;32m<ipython-input-9-7cd356d2aa3c>\u001b[0m in \u001b[0;36m<module>\u001b[0;34m()\u001b[0m\n\u001b[1;32m      1\u001b[0m \u001b[0;31m#In case your RAM-o-meter is in the red\u001b[0m\u001b[0;34m\u001b[0m\u001b[0;34m\u001b[0m\u001b[0m\n\u001b[0;32m----> 2\u001b[0;31m \u001b[0;32mif\u001b[0m \u001b[0mvery_low_ram\u001b[0m\u001b[0;34m:\u001b[0m\u001b[0;34m\u001b[0m\u001b[0m\n\u001b[0m\u001b[1;32m      3\u001b[0m     \u001b[0mdata\u001b[0m \u001b[0;34m=\u001b[0m \u001b[0mdata\u001b[0m\u001b[0;34m[\u001b[0m\u001b[0;34m:\u001b[0m\u001b[0;34m:\u001b[0m\u001b[0;36m2\u001b[0m\u001b[0;34m]\u001b[0m\u001b[0;34m\u001b[0m\u001b[0m\n",
      "\u001b[0;31mNameError\u001b[0m: name 'very_low_ram' is not defined"
     ]
    }
   ],
   "source": [
    "#In case your RAM-o-meter is in the red\n",
    "if very_low_ram:\n",
    "    data = data[::2]"
   ]
  },
  {
   "cell_type": "markdown",
   "metadata": {},
   "source": [
    "# Tokenizing\n",
    "\n",
    "First, we create a dictionary of all existing words.\n",
    "Assign each word a number - it's Id"
   ]
  },
  {
   "cell_type": "code",
   "execution_count": null,
   "metadata": {},
   "outputs": [],
   "source": [
    "from nltk.tokenize import RegexpTokenizer\n",
    "from collections import Counter,defaultdict\n",
    "\n",
    "tokenizer = RegexpTokenizer(r\"\\w+\")\n",
    "\n",
    "#Dictionary of tokens\n",
    "token_counts = Counter()\n",
    "\n",
    "#All texts\n",
    "all_texts = np.hstack([df.description.values, df.title.values])\n",
    "\n",
    "\n",
    "#Compute token frequencies\n",
    "for s in all_texts:\n",
    "    if type(s) is not str:\n",
    "        continue\n",
    "    #s = s.decode('utf8').lower() #we use python3!\n",
    "    s = s.lower()\n",
    "    tokens = tokenizer.tokenize(s)\n",
    "    for token in tokens:\n",
    "        token_counts[token] +=1"
   ]
  },
  {
   "cell_type": "markdown",
   "metadata": {},
   "source": [
    "### Remove rare tokens\n",
    "\n",
    "We are unlikely to make use of words that are only seen a few times throughout the corpora.\n",
    "\n",
    "Again, if you want to beat Kaggle competition metrics, consider doing something better."
   ]
  },
  {
   "cell_type": "code",
   "execution_count": null,
   "metadata": {},
   "outputs": [],
   "source": [
    "#Word frequency distribution, just for kicks\n",
    "_ = plt.hist(list(token_counts.values()), range=[0,50], bins=50)"
   ]
  },
  {
   "cell_type": "code",
   "execution_count": null,
   "metadata": {
    "collapsed": true
   },
   "outputs": [],
   "source": [
    "#Select only the tokens that had at least 10 occurences in the corpora.\n",
    "#Use token_counts.\n",
    "\n",
    "min_count = 10\n",
    "tokens = [token for token in token_counts if token_counts[token] >= min_count]\n",
    "#tokens = <tokens from token_counts keys that had at least min_count occurences throughout the dataset>\n"
   ]
  },
  {
   "cell_type": "code",
   "execution_count": null,
   "metadata": {
    "collapsed": true
   },
   "outputs": [],
   "source": [
    "token_to_id = {t: i + 1 for i, t in enumerate(tokens)}\n",
    "null_token = \"NULL\"\n",
    "token_to_id[null_token] = 0\n"
   ]
  },
  {
   "cell_type": "code",
   "execution_count": null,
   "metadata": {},
   "outputs": [],
   "source": [
    "print(\"# Tokens:\",len(token_to_id))\n",
    "if len(token_to_id) < 30000:\n",
    "    print(\"Alarm! It seems like there are too few tokens. Make sure you updated NLTK and applied correct thresholds -- unless you now what you're doing, ofc\")\n",
    "if len(token_to_id) > 1000000:\n",
    "    print(\"Alarm! Too many tokens. You might have messed up when pruning rare ones -- unless you know what you're doin' ofc\")"
   ]
  },
  {
   "cell_type": "markdown",
   "metadata": {},
   "source": [
    "### Replace words with IDs\n",
    "Set a maximum length for titles and descriptions.\n",
    " * If string is longer that that limit - crop it, if less - pad with zeros.\n",
    " * Thus we obtain a matrix of size [n_samples]x[max_length]\n",
    " * Element at i,j - is an identifier of word j within sample i"
   ]
  },
  {
   "cell_type": "code",
   "execution_count": null,
   "metadata": {
    "collapsed": true
   },
   "outputs": [],
   "source": [
    "def vectorize(strings, token_to_id, max_len=150):\n",
    "    token_matrix = []\n",
    "    for s in strings:\n",
    "        if type(s) is not str:\n",
    "            token_matrix.append([0]*max_len)\n",
    "            continue\n",
    "        #s = s.decode('utf8').lower()\n",
    "        s = s.lower()\n",
    "        tokens = tokenizer.tokenize(s)\n",
    "        token_ids = list(map(lambda token: token_to_id.get(token,0), tokens))[:max_len]\n",
    "        token_ids += [0]*(max_len - len(token_ids))\n",
    "        token_matrix.append(token_ids)\n",
    "\n",
    "    return np.array(token_matrix)"
   ]
  },
  {
   "cell_type": "code",
   "execution_count": null,
   "metadata": {
    "collapsed": true,
    "scrolled": false
   },
   "outputs": [],
   "source": [
    "desc_tokens = vectorize(df.description.values, token_to_id, max_len=150)\n",
    "title_tokens = vectorize(df.title.values, token_to_id, max_len=15)"
   ]
  },
  {
   "cell_type": "markdown",
   "metadata": {},
   "source": [
    "### Data format examples\n"
   ]
  },
  {
   "cell_type": "code",
   "execution_count": null,
   "metadata": {},
   "outputs": [],
   "source": [
    "print(\"Размер матрицы:\",title_tokens.shape)\n",
    "for title, tokens in zip(df.title.values[:3], title_tokens[:3]):\n",
    "    print(title, '->', tokens[:10], '...')"
   ]
  },
  {
   "cell_type": "markdown",
   "metadata": {},
   "source": [
    "__ As you can see, our preprocessing is somewhat crude. Let us see if that is enough for our network __"
   ]
  },
  {
   "cell_type": "markdown",
   "metadata": {},
   "source": [
    "# Non-sequences\n",
    "\n",
    "\n",
    "Some data features are not text samples. E.g. price, # urls, category, etc\n",
    "\n",
    "They require a separate preprocessing."
   ]
  },
  {
   "cell_type": "code",
   "execution_count": null,
   "metadata": {
    "collapsed": true
   },
   "outputs": [],
   "source": [
    "#All numeric features\n",
    "df_numerical_features = df[[\"phones_cnt\",\"emails_cnt\",\"urls_cnt\",\"price\"]]\n"
   ]
  },
  {
   "cell_type": "code",
   "execution_count": null,
   "metadata": {
    "collapsed": true
   },
   "outputs": [],
   "source": [
    "#One-hot-encoded category and subcategory\n",
    "\n",
    "from sklearn.feature_extraction import DictVectorizer\n",
    "\n",
    "categories = []\n",
    "data_cat_subcat = df[[\"category\",\"subcategory\"]].values\n",
    "\n",
    "categories = [{\"category\": item[0], \"subcategory\": item[1]} for item in data_cat_subcat]\n",
    "#categories = [A list of dictionaries {\"category\":category_name, \"subcategory\":subcategory_name} for each data sample]\n",
    "\n",
    "vectorizer = DictVectorizer(sparse=False)\n",
    "cat_one_hot = vectorizer.fit_transform(categories)\n",
    "cat_one_hot = pd.DataFrame(cat_one_hot,columns=vectorizer.feature_names_)"
   ]
  },
  {
   "cell_type": "code",
   "execution_count": null,
   "metadata": {
    "collapsed": true
   },
   "outputs": [],
   "source": [
    "df_non_text = pd.merge(\n",
    "    df_numerical_features,cat_one_hot,on = np.arange(len(cat_one_hot))\n",
    ")\n",
    "del df_non_text[\"key_0\"]"
   ]
  },
  {
   "cell_type": "markdown",
   "metadata": {},
   "source": [
    "# Split data into training and test"
   ]
  },
  {
   "cell_type": "code",
   "execution_count": null,
   "metadata": {
    "collapsed": true
   },
   "outputs": [],
   "source": [
    "#Target variable - whether or not sample contains prohibited material\n",
    "target = df.is_blocked.values.astype('int32')\n",
    "#Preprocessed titles\n",
    "title_tokens = title_tokens.astype('int32')\n",
    "#Preprocessed tokens\n",
    "desc_tokens = desc_tokens.astype('int32')\n",
    "\n",
    "#Non-sequences\n",
    "df_non_text = df_non_text.astype('float32')"
   ]
  },
  {
   "cell_type": "code",
   "execution_count": null,
   "metadata": {
    "collapsed": true
   },
   "outputs": [],
   "source": [
    "df.itemid.quantile(0.8) # 82005441"
   ]
  },
  {
   "cell_type": "code",
   "execution_count": null,
   "metadata": {
    "collapsed": true
   },
   "outputs": [],
   "source": [
    "#Split into training and test set.\n",
    "\n",
    "\n",
    "#Difficulty selector:\n",
    "#Easy: split randomly\n",
    "#Medium: select test set items that have item_ids strictly above that of training set\n",
    "#Hard: do whatever you want, but score yourself using kaggle private leaderboard\n",
    "\n",
    "#title_tr, title_ts, desc_tr, desc_ts, nontext_tr, nontext_ts, target_tr, target_ts = <define_these_variables>\n",
    "#title_tr, title_ts, desc_tr, desc_ts, nontext_tr, nontext_ts, target_tr, target_ts = <define_these_variables>\n",
    "title_train, title_test = title_tokens[df.itemid < 82005441], title_tokens[df.itemid >= 82005441]\n",
    "desc_train, desc_test = desc_tokens[df.itemid < 82005441], desc_tokens[df.itemid >= 82005441]\n",
    "nontext_train, nontext_test = df_non_text.loc[df.itemid < 82005441], df_non_text.loc[df.itemid >= 82005441]\n",
    "target_train, target_test = target[df.itemid < 82005441], target[df.itemid >= 82005441]\n",
    "\n",
    "data_tuple = (title_train, title_test, desc_train, desc_test, nontext_train, nontext_test, target_train, target_test)"
   ]
  },
  {
   "cell_type": "markdown",
   "metadata": {},
   "source": [
    "## Save preprocessed data [optional]\n",
    "\n",
    "* The next tab can be used to stash all the essential data matrices and get rid of the rest of the data.\n",
    " * Highly recommended if you have less than 1.5GB RAM left\n",
    "* To do that, you need to first run it with save_prepared_data=True, then restart the notebook and only run this tab with read_prepared_data=True."
   ]
  },
  {
   "cell_type": "code",
   "execution_count": 14,
   "metadata": {},
   "outputs": [
    {
     "name": "stdout",
     "output_type": "stream",
     "text": [
      "Reading saved data...\n",
      "done\n"
     ]
    }
   ],
   "source": [
    "save_prepared_data = False #save\n",
    "read_prepared_data = True #load\n",
    "\n",
    "#but not both at once\n",
    "assert not (save_prepared_data and read_prepared_data)\n",
    "\n",
    "if save_prepared_data:\n",
    "    print(\"Saving preprocessed data (may take up to 3 minutes)\")\n",
    "\n",
    "    import pickle\n",
    "    with open(\"preprocessed_data.pcl\", 'wb') as fout:\n",
    "        pickle.dump(data_tuple, fout)\n",
    "    with open(\"token_to_id.pcl\", 'wb') as fout:\n",
    "        pickle.dump(token_to_id, fout)\n",
    "\n",
    "    print(\"готово\")\n",
    "    \n",
    "elif read_prepared_data:\n",
    "    print(\"Reading saved data...\")\n",
    "    \n",
    "    import pickle\n",
    "    \n",
    "    with open(\"preprocessed_data.pcl\", 'rb') as fin:\n",
    "        data_tuple = pickle.load(fin)\n",
    "    title_train, title_test, desc_train, desc_test, nontext_train, nontext_test, target_train, target_test = data_tuple\n",
    "    with open(\"token_to_id.pcl\", 'rb') as fin:\n",
    "        token_to_id = pickle.load(fin)\n",
    "        \n",
    "    #Re-importing libraries to allow staring noteboook from here\n",
    "    import pandas as pd\n",
    "    import numpy as np\n",
    "    import matplotlib.pyplot as plt\n",
    "    %matplotlib inline\n",
    "   \n",
    "    print(\"done\")"
   ]
  },
  {
   "cell_type": "markdown",
   "metadata": {},
   "source": [
    "# Train the monster\n",
    "\n",
    "Since we have several data sources, our neural network may differ from what you used to work with.\n",
    "\n",
    "* Separate input for titles: RNN\n",
    "* Separate input for description: RNN\n",
    "* Separate input for categorical features: обычные полносвязные слои или какие-нибудь трюки\n",
    " \n",
    "These three inputs must be blended somehow - concatenated or added.\n",
    "\n",
    "* Output: a simple binary classification\n",
    " * 1 sigmoidal with binary_crossentropy\n",
    " * 2 softmax with categorical_crossentropy - essentially the same as previous one\n",
    " * 1 neuron without nonlinearity (lambda x: x) +  hinge loss\n",
    " "
   ]
  },
  {
   "cell_type": "markdown",
   "metadata": {},
   "source": [
    "Я буду использовать keras, потому что популярнее и проще. В требованиях вроде нет привязке к лазанье."
   ]
  },
  {
   "cell_type": "code",
   "execution_count": 25,
   "metadata": {},
   "outputs": [],
   "source": [
    "from keras import backend as K\n",
    "from keras.layers.embeddings import Embedding\n",
    "from keras.layers import Input, Dense, RepeatVector, Permute, Flatten, Activation, Lambda, merge\n",
    "from keras.models import Model\n",
    "from keras.layers.recurrent import LSTM, GRU\n",
    "from keras.optimizers import Nadam, RMSprop, Adagrad, Adam, Adadelta\n",
    "from keras.layers.wrappers import Bidirectional\n",
    "from keras.layers.normalization import BatchNormalization\n",
    "from keras.layers.core import Dropout, Reshape\n",
    "from keras.layers.advanced_activations import PReLU\n",
    "from keras.layers.merge import multiply, add\n",
    "from keras.layers.wrappers import TimeDistributed\n",
    "from keras.layers.core import Layer  \n",
    "from keras import initializers, regularizers, constraints, activations, initializers\n",
    "from keras.layers import Conv2D, MaxPooling2D, Conv1D, MaxPooling1D\n",
    "from keras.layers.merge import concatenate\n",
    "from keras import metrics\n",
    "import gensim"
   ]
  },
  {
   "cell_type": "code",
   "execution_count": 32,
   "metadata": {
    "collapsed": true
   },
   "outputs": [],
   "source": [
    "def reccurent_model():\n",
    "    \n",
    "    inputs_titile = Input(shape=(15,), dtype='float32')\n",
    "    inputs_desc = Input(shape=(150,), dtype='float32')\n",
    "    inputs_nontext = Input(shape=(67,), dtype='float32')\n",
    "    \n",
    "    encoded_titile = Embedding(87953, 60, input_length=15,\n",
    "                          trainable=True, mask_zero=True,)(inputs_titile)\n",
    "    \n",
    "    encoded_desc = Embedding(87953, 60, input_length=150,\n",
    "                             trainable=True, mask_zero=True,)(inputs_desc)\n",
    "    \n",
    "    activations_title = Bidirectional(LSTM(60, recurrent_dropout=0.2, dropout=0.2, return_sequences=False))(encoded_titile)\n",
    "\n",
    "    activations_desc = Bidirectional(LSTM(60, recurrent_dropout=0.2, dropout=0.2, return_sequences=False))(encoded_desc)\n",
    "\n",
    "    dense1 = Dense(32)(inputs_nontext)\n",
    "    bn1 = BatchNormalization()(dense1)\n",
    "    relu1 = PReLU()(bn1)\n",
    "\n",
    "    dense2 = Dense(32)(relu1)\n",
    "    bn2 = BatchNormalization()(dense2)\n",
    "    res2 = add([relu1, bn2])\n",
    "    relu2 = PReLU()(res2)    \n",
    "\n",
    "    dense3 = Dense(32)(relu2)\n",
    "    bn3 = BatchNormalization()(dense3)\n",
    "    res3 = add([relu2, bn3])\n",
    "    relu3 = PReLU()(res3)   \n",
    "    \n",
    "    feats = concatenate([relu3, relu2, relu1])\n",
    "    \n",
    "    merged = concatenate([activations_title, activations_desc, feats])\n",
    "    \n",
    "    \n",
    "    \n",
    "    merged = Dense(100)(merged)\n",
    "    #merged = Dropout(0.3)(merged)\n",
    "    merged = BatchNormalization()(merged)\n",
    "    merged = Activation(\"relu\")(merged)\n",
    "\n",
    "    outputs = Dense(1, activation='sigmoid', name='outputs')(merged)\n",
    "    my_loss = {'outputs': \"binary_crossentropy\",}\n",
    "\n",
    "    inputs_all = [\n",
    "                inputs_titile,\n",
    "                inputs_desc,\n",
    "                inputs_nontext\n",
    "            ]\n",
    "\n",
    "    outputs_all = [\n",
    "                outputs\n",
    "            ]\n",
    "\n",
    "    model = Model(inputs=inputs_all, outputs=outputs_all)\n",
    "    nadam = Nadam(lr=1e-2)\n",
    "    #adadelta = Adadelta()\n",
    "    model.compile(\n",
    "                optimizer=nadam,\n",
    "                loss=my_loss,\n",
    "                loss_weights={'outputs': 1.},\n",
    "                metrics=[metrics.binary_crossentropy, metrics.binary_accuracy]\n",
    "              )\n",
    "    return model"
   ]
  },
  {
   "cell_type": "code",
   "execution_count": 17,
   "metadata": {
    "collapsed": true
   },
   "outputs": [],
   "source": [
    "def APatK(y_true, y_predicted, K=32500):\n",
    "    \"\"\"Calculates AP@k given true Y and predictions (probabilities).\n",
    "    Sorts answers by y_predicted to obtain ranking\"\"\"\n",
    "\n",
    "    sort_by_ypred = np.argsort(-y_predicted)\n",
    "    \n",
    "    y_true = y_true[sort_by_ypred]\n",
    "    y_predicted = y_predicted[sort_by_ypred]\n",
    "    \n",
    "    countRelevants = 0\n",
    "    listOfPrecisions = []\n",
    "    \n",
    "    for i in range(min(K, y_true.shape[0])):\n",
    "        currentk = i + 1.0\n",
    "        if y_true[i] != 0:\n",
    "            countRelevants += 1\n",
    "        #print(countRelevants)\n",
    "        precisionAtK = countRelevants / currentk \n",
    "        listOfPrecisions.append(precisionAtK)\n",
    "    return np.sum(listOfPrecisions) / min(K, y_true.shape[0]) \n"
   ]
  },
  {
   "cell_type": "code",
   "execution_count": 33,
   "metadata": {
    "collapsed": true
   },
   "outputs": [],
   "source": [
    "from sklearn.preprocessing import StandardScaler\n",
    "transformer = StandardScaler()\n",
    "nontext_matrix_train = transformer.fit_transform(nontext_train.as_matrix())\n",
    "nontext_matrix_test = transformer.transform(nontext_test.as_matrix())"
   ]
  },
  {
   "cell_type": "code",
   "execution_count": 34,
   "metadata": {
    "scrolled": true
   },
   "outputs": [
    {
     "name": "stdout",
     "output_type": "stream",
     "text": [
      "Train on 10000 samples, validate on 10000 samples\n",
      "Epoch 1/1\n",
      "10000/10000 [==============================] - 109s - loss: 0.2593 - binary_crossentropy: 0.2593 - binary_accuracy: 0.8927 - val_loss: 0.1923 - val_binary_crossentropy: 0.1923 - val_binary_accuracy: 0.9336\n",
      "epoch:  0\n",
      "auc:  0.981661789347\n",
      "APatK:  0.99172344973\n",
      "Train on 10000 samples, validate on 10000 samples\n",
      "Epoch 1/1\n",
      "10000/10000 [==============================] - 109s - loss: 0.1618 - binary_crossentropy: 0.1618 - binary_accuracy: 0.9418 - val_loss: 0.2117 - val_binary_crossentropy: 0.2117 - val_binary_accuracy: 0.9288\n",
      "epoch:  1\n",
      "auc:  0.982495072545\n",
      "APatK:  0.998678439874\n",
      "Train on 10000 samples, validate on 10000 samples\n",
      "Epoch 1/1\n",
      "10000/10000 [==============================] - 138s - loss: 0.1461 - binary_crossentropy: 0.1461 - binary_accuracy: 0.9452 - val_loss: 0.1549 - val_binary_crossentropy: 0.1549 - val_binary_accuracy: 0.9485\n",
      "epoch:  2\n",
      "auc:  0.987435428653\n",
      "APatK:  0.99833278513\n",
      "Train on 10000 samples, validate on 10000 samples\n",
      "Epoch 1/1\n",
      "10000/10000 [==============================] - 112s - loss: 0.1317 - binary_crossentropy: 0.1317 - binary_accuracy: 0.9543 - val_loss: 0.1404 - val_binary_crossentropy: 0.1404 - val_binary_accuracy: 0.9500\n",
      "epoch:  3\n",
      "auc:  0.988387938031\n",
      "APatK:  0.996576513986\n",
      "Train on 10000 samples, validate on 10000 samples\n",
      "Epoch 1/1\n",
      "10000/10000 [==============================] - 139s - loss: 0.1170 - binary_crossentropy: 0.1170 - binary_accuracy: 0.9593 - val_loss: 0.1346 - val_binary_crossentropy: 0.1346 - val_binary_accuracy: 0.9535\n",
      "epoch:  4\n",
      "auc:  0.988924865865\n",
      "APatK:  1.0\n",
      "Train on 10000 samples, validate on 10000 samples\n",
      "Epoch 1/1\n",
      "10000/10000 [==============================] - 113s - loss: 0.1227 - binary_crossentropy: 0.1227 - binary_accuracy: 0.9575 - val_loss: 0.1300 - val_binary_crossentropy: 0.1300 - val_binary_accuracy: 0.9576\n",
      "epoch:  5\n",
      "auc:  0.989701686135\n",
      "APatK:  1.0\n",
      "Train on 10000 samples, validate on 10000 samples\n",
      "Epoch 1/1\n",
      "10000/10000 [==============================] - 112s - loss: 0.1102 - binary_crossentropy: 0.1102 - binary_accuracy: 0.9640 - val_loss: 0.1211 - val_binary_crossentropy: 0.1211 - val_binary_accuracy: 0.9564\n",
      "epoch:  6\n",
      "auc:  0.990416843209\n",
      "APatK:  0.997324652508\n",
      "Train on 10000 samples, validate on 10000 samples\n",
      "Epoch 1/1\n",
      "10000/10000 [==============================] - 138s - loss: 0.0968 - binary_crossentropy: 0.0968 - binary_accuracy: 0.9678 - val_loss: 0.1207 - val_binary_crossentropy: 0.1207 - val_binary_accuracy: 0.9585\n",
      "epoch:  7\n",
      "auc:  0.991504279582\n",
      "APatK:  0.999771811609\n",
      "Train on 10000 samples, validate on 10000 samples\n",
      "Epoch 1/1\n",
      "10000/10000 [==============================] - 118s - loss: 0.1012 - binary_crossentropy: 0.1012 - binary_accuracy: 0.9637 - val_loss: 0.1150 - val_binary_crossentropy: 0.1150 - val_binary_accuracy: 0.9614\n",
      "epoch:  8\n",
      "auc:  0.991443356424\n",
      "APatK:  1.0\n",
      "Train on 10000 samples, validate on 10000 samples\n",
      "Epoch 1/1\n",
      "10000/10000 [==============================] - 139s - loss: 0.1008 - binary_crossentropy: 0.1008 - binary_accuracy: 0.9653 - val_loss: 0.1158 - val_binary_crossentropy: 0.1158 - val_binary_accuracy: 0.9602\n",
      "epoch:  9\n",
      "auc:  0.991394633898\n",
      "APatK:  1.0\n",
      "Train on 10000 samples, validate on 10000 samples\n",
      "Epoch 1/1\n",
      "10000/10000 [==============================] - 131s - loss: 0.0927 - binary_crossentropy: 0.0927 - binary_accuracy: 0.9695 - val_loss: 0.1087 - val_binary_crossentropy: 0.1087 - val_binary_accuracy: 0.9635\n",
      "epoch:  10\n",
      "auc:  0.991874258762\n",
      "APatK:  0.996015019386\n",
      "Train on 10000 samples, validate on 10000 samples\n",
      "Epoch 1/1\n",
      "10000/10000 [==============================] - 143s - loss: 0.0974 - binary_crossentropy: 0.0974 - binary_accuracy: 0.9648 - val_loss: 0.1148 - val_binary_crossentropy: 0.1148 - val_binary_accuracy: 0.9615\n",
      "epoch:  11\n",
      "auc:  0.991230085368\n",
      "APatK:  1.0\n",
      "Train on 10000 samples, validate on 10000 samples\n",
      "Epoch 1/1\n",
      "10000/10000 [==============================] - 139s - loss: 0.0989 - binary_crossentropy: 0.0989 - binary_accuracy: 0.9673 - val_loss: 0.1114 - val_binary_crossentropy: 0.1114 - val_binary_accuracy: 0.9627\n",
      "epoch:  12\n",
      "auc:  0.991872918692\n",
      "APatK:  1.0\n",
      "Train on 10000 samples, validate on 10000 samples\n",
      "Epoch 1/1\n",
      "10000/10000 [==============================] - 129s - loss: 0.0944 - binary_crossentropy: 0.0944 - binary_accuracy: 0.9672 - val_loss: 0.1034 - val_binary_crossentropy: 0.1034 - val_binary_accuracy: 0.9662\n",
      "epoch:  13\n",
      "auc:  0.992387825385\n",
      "APatK:  1.0\n",
      "Train on 10000 samples, validate on 10000 samples\n",
      "Epoch 1/1\n",
      "10000/10000 [==============================] - 148s - loss: 0.0993 - binary_crossentropy: 0.0993 - binary_accuracy: 0.9684 - val_loss: 0.1088 - val_binary_crossentropy: 0.1088 - val_binary_accuracy: 0.9618\n",
      "epoch:  14\n",
      "auc:  0.992490670716\n",
      "APatK:  1.0\n",
      "Train on 10000 samples, validate on 10000 samples\n",
      "Epoch 1/1\n",
      "10000/10000 [==============================] - 125s - loss: 0.0945 - binary_crossentropy: 0.0945 - binary_accuracy: 0.9665 - val_loss: 0.1098 - val_binary_crossentropy: 0.1098 - val_binary_accuracy: 0.9631\n",
      "epoch:  15\n",
      "auc:  0.992007125649\n",
      "APatK:  0.996538928479\n",
      "Train on 10000 samples, validate on 10000 samples\n",
      "Epoch 1/1\n",
      "10000/10000 [==============================] - 144s - loss: 0.0875 - binary_crossentropy: 0.0875 - binary_accuracy: 0.9702 - val_loss: 0.1046 - val_binary_crossentropy: 0.1046 - val_binary_accuracy: 0.9641\n",
      "epoch:  16\n",
      "auc:  0.992294200531\n",
      "APatK:  1.0\n",
      "Train on 10000 samples, validate on 10000 samples\n",
      "Epoch 1/1\n",
      "10000/10000 [==============================] - 133s - loss: 0.0910 - binary_crossentropy: 0.0910 - binary_accuracy: 0.9697 - val_loss: 0.1071 - val_binary_crossentropy: 0.1071 - val_binary_accuracy: 0.9673\n",
      "epoch:  17\n",
      "auc:  0.992211696254\n",
      "APatK:  1.0\n",
      "Train on 10000 samples, validate on 10000 samples\n",
      "Epoch 1/1\n",
      "10000/10000 [==============================] - 138s - loss: 0.0790 - binary_crossentropy: 0.0790 - binary_accuracy: 0.9736 - val_loss: 0.1103 - val_binary_crossentropy: 0.1103 - val_binary_accuracy: 0.9659\n",
      "epoch:  18\n",
      "auc:  0.992596916224\n",
      "APatK:  0.993136160404\n",
      "Train on 10000 samples, validate on 10000 samples\n",
      "Epoch 1/1\n",
      "10000/10000 [==============================] - 173s - loss: 0.0874 - binary_crossentropy: 0.0874 - binary_accuracy: 0.9717 - val_loss: 0.0975 - val_binary_crossentropy: 0.0975 - val_binary_accuracy: 0.9669\n",
      "epoch:  19\n",
      "auc:  0.993102722445\n",
      "APatK:  0.997565271723\n",
      "Train on 10000 samples, validate on 10000 samples\n",
      "Epoch 1/1\n",
      "10000/10000 [==============================] - 131s - loss: 0.0814 - binary_crossentropy: 0.0814 - binary_accuracy: 0.9729 - val_loss: 0.0942 - val_binary_crossentropy: 0.0942 - val_binary_accuracy: 0.9687\n",
      "epoch:  20\n",
      "auc:  0.993477301863\n",
      "APatK:  1.0\n",
      "Train on 10000 samples, validate on 10000 samples\n",
      "Epoch 1/1\n",
      "10000/10000 [==============================] - 149s - loss: 0.0836 - binary_crossentropy: 0.0836 - binary_accuracy: 0.9724 - val_loss: 0.0923 - val_binary_crossentropy: 0.0923 - val_binary_accuracy: 0.9696\n",
      "epoch:  21\n",
      "auc:  0.993781677642\n",
      "APatK:  0.9911630371\n",
      "Train on 10000 samples, validate on 10000 samples\n",
      "Epoch 1/1\n",
      "10000/10000 [==============================] - 135s - loss: 0.0722 - binary_crossentropy: 0.0722 - binary_accuracy: 0.9764 - val_loss: 0.0968 - val_binary_crossentropy: 0.0968 - val_binary_accuracy: 0.9696\n",
      "epoch:  22\n",
      "auc:  0.993677992267\n",
      "APatK:  0.996613748226\n",
      "Train on 10000 samples, validate on 10000 samples\n",
      "Epoch 1/1\n",
      "10000/10000 [==============================] - 137s - loss: 0.0732 - binary_crossentropy: 0.0732 - binary_accuracy: 0.9747 - val_loss: 0.0966 - val_binary_crossentropy: 0.0966 - val_binary_accuracy: 0.9681\n",
      "epoch:  23\n",
      "auc:  0.993540545142\n",
      "APatK:  0.997651884837\n",
      "Train on 10000 samples, validate on 10000 samples\n",
      "Epoch 1/1\n",
      "10000/10000 [==============================] - 148s - loss: 0.0791 - binary_crossentropy: 0.0791 - binary_accuracy: 0.9721 - val_loss: 0.0975 - val_binary_crossentropy: 0.0975 - val_binary_accuracy: 0.9688\n",
      "epoch:  24\n",
      "auc:  0.993730034965\n",
      "APatK:  0.99498909144\n",
      "Train on 10000 samples, validate on 10000 samples\n",
      "Epoch 1/1\n",
      "10000/10000 [==============================] - 131s - loss: 0.0783 - binary_crossentropy: 0.0783 - binary_accuracy: 0.9730 - val_loss: 0.0954 - val_binary_crossentropy: 0.0954 - val_binary_accuracy: 0.9693\n",
      "epoch:  25\n",
      "auc:  0.993556005943\n",
      "APatK:  1.0\n",
      "Train on 10000 samples, validate on 10000 samples\n",
      "Epoch 1/1\n"
     ]
    },
    {
     "name": "stdout",
     "output_type": "stream",
     "text": [
      "10000/10000 [==============================] - 150s - loss: 0.0770 - binary_crossentropy: 0.0770 - binary_accuracy: 0.9739 - val_loss: 0.0952 - val_binary_crossentropy: 0.0952 - val_binary_accuracy: 0.9698\n",
      "epoch:  26\n",
      "auc:  0.993521384149\n",
      "APatK:  1.0\n",
      "Train on 10000 samples, validate on 10000 samples\n",
      "Epoch 1/1\n",
      "10000/10000 [==============================] - 128s - loss: 0.0773 - binary_crossentropy: 0.0773 - binary_accuracy: 0.9746 - val_loss: 0.0939 - val_binary_crossentropy: 0.0939 - val_binary_accuracy: 0.9694\n",
      "epoch:  27\n",
      "auc:  0.993854481416\n",
      "APatK:  1.0\n",
      "Train on 10000 samples, validate on 10000 samples\n",
      "Epoch 1/1\n",
      "10000/10000 [==============================] - 133s - loss: 0.0770 - binary_crossentropy: 0.0770 - binary_accuracy: 0.9748 - val_loss: 0.1048 - val_binary_crossentropy: 0.1048 - val_binary_accuracy: 0.9666\n",
      "epoch:  28\n",
      "auc:  0.993303652861\n",
      "APatK:  1.0\n",
      "Train on 10000 samples, validate on 10000 samples\n",
      "Epoch 1/1\n",
      "10000/10000 [==============================] - 144s - loss: 0.0730 - binary_crossentropy: 0.0730 - binary_accuracy: 0.9767 - val_loss: 0.0983 - val_binary_crossentropy: 0.0983 - val_binary_accuracy: 0.9695\n",
      "epoch:  29\n",
      "auc:  0.993669411822\n",
      "APatK:  1.0\n",
      "Train on 10000 samples, validate on 10000 samples\n",
      "Epoch 1/1\n",
      "10000/10000 [==============================] - 129s - loss: 0.0674 - binary_crossentropy: 0.0674 - binary_accuracy: 0.9781 - val_loss: 0.0973 - val_binary_crossentropy: 0.0973 - val_binary_accuracy: 0.9677\n",
      "epoch:  30\n",
      "auc:  0.993335814529\n",
      "APatK:  1.0\n",
      "Train on 10000 samples, validate on 10000 samples\n",
      "Epoch 1/1\n",
      "10000/10000 [==============================] - 150s - loss: 0.0701 - binary_crossentropy: 0.0701 - binary_accuracy: 0.9756 - val_loss: 0.1007 - val_binary_crossentropy: 0.1007 - val_binary_accuracy: 0.9699\n",
      "epoch:  31\n",
      "auc:  0.993496182842\n",
      "APatK:  1.0\n",
      "Train on 10000 samples, validate on 10000 samples\n",
      "Epoch 1/1\n",
      "10000/10000 [==============================] - 129s - loss: 0.0693 - binary_crossentropy: 0.0693 - binary_accuracy: 0.9785 - val_loss: 0.0991 - val_binary_crossentropy: 0.0991 - val_binary_accuracy: 0.9666\n",
      "epoch:  32\n",
      "auc:  0.993033538859\n",
      "APatK:  1.0\n",
      "Train on 10000 samples, validate on 10000 samples\n",
      "Epoch 1/1\n",
      "10000/10000 [==============================] - 142s - loss: 0.0699 - binary_crossentropy: 0.0699 - binary_accuracy: 0.9783 - val_loss: 0.0951 - val_binary_crossentropy: 0.0951 - val_binary_accuracy: 0.9680\n",
      "epoch:  33\n",
      "auc:  0.993571326738\n",
      "APatK:  1.0\n",
      "Train on 10000 samples, validate on 10000 samples\n",
      "Epoch 1/1\n",
      "10000/10000 [==============================] - 140s - loss: 0.0791 - binary_crossentropy: 0.0791 - binary_accuracy: 0.9759 - val_loss: 0.0977 - val_binary_crossentropy: 0.0977 - val_binary_accuracy: 0.9685\n",
      "epoch:  34\n",
      "auc:  0.993268891059\n",
      "APatK:  1.0\n",
      "Train on 10000 samples, validate on 10000 samples\n",
      "Epoch 1/1\n",
      "10000/10000 [==============================] - 152s - loss: 0.0725 - binary_crossentropy: 0.0725 - binary_accuracy: 0.9751 - val_loss: 0.0979 - val_binary_crossentropy: 0.0979 - val_binary_accuracy: 0.9696\n",
      "epoch:  35\n",
      "auc:  0.993512083666\n",
      "APatK:  1.0\n",
      "Train on 10000 samples, validate on 10000 samples\n",
      "Epoch 1/1\n",
      "10000/10000 [==============================] - 129s - loss: 0.0700 - binary_crossentropy: 0.0700 - binary_accuracy: 0.9770 - val_loss: 0.0984 - val_binary_crossentropy: 0.0984 - val_binary_accuracy: 0.9677\n",
      "epoch:  36\n",
      "auc:  0.993461301034\n",
      "APatK:  1.0\n",
      "Train on 10000 samples, validate on 10000 samples\n",
      "Epoch 1/1\n",
      "10000/10000 [==============================] - 130s - loss: 0.0700 - binary_crossentropy: 0.0700 - binary_accuracy: 0.9770 - val_loss: 0.0955 - val_binary_crossentropy: 0.0955 - val_binary_accuracy: 0.9691\n",
      "epoch:  37\n",
      "auc:  0.993476861841\n",
      "APatK:  1.0\n",
      "Train on 10000 samples, validate on 10000 samples\n",
      "Epoch 1/1\n",
      "10000/10000 [==============================] - 147s - loss: 0.0740 - binary_crossentropy: 0.0740 - binary_accuracy: 0.9768 - val_loss: 0.0949 - val_binary_crossentropy: 0.0949 - val_binary_accuracy: 0.9691\n",
      "epoch:  38\n",
      "auc:  0.993344414974\n",
      "APatK:  1.0\n",
      "Train on 10000 samples, validate on 10000 samples\n",
      "Epoch 1/1\n",
      "10000/10000 [==============================] - 145s - loss: 0.0688 - binary_crossentropy: 0.0688 - binary_accuracy: 0.9775 - val_loss: 0.0994 - val_binary_crossentropy: 0.0994 - val_binary_accuracy: 0.9696\n",
      "epoch:  39\n",
      "auc:  0.99332523398\n",
      "APatK:  1.0\n"
     ]
    }
   ],
   "source": [
    "from sklearn.metrics import roc_auc_score, accuracy_score\n",
    "model = reccurent_model()\n",
    "#X_train = [title_train[:10000], desc_train[:10000]]\n",
    "X_test = [title_test[:10000, :], desc_test[:10000, :], nontext_matrix_test[:10000, :]]\n",
    "y_test = target_test[:10000]\n",
    "for epoch_num in range(40):\n",
    "    indices = np.arange(title_train.shape[0])\n",
    "    np.random.shuffle(indices)\n",
    "    X_train = [title_train[indices[:10000], :], desc_train[indices[:10000], :], nontext_matrix_train[indices[:10000], :]]\n",
    "    y_train = target_train[indices[:10000]]\n",
    "    \n",
    "    model.fit(X_train, y_train, batch_size=128, epochs=1, verbose=1, validation_data=(X_test, y_test), shuffle=True)\n",
    "    res = model.predict(X_test)\n",
    "    print(\"epoch: \", epoch_num)\n",
    "    print(\"auc: \", roc_auc_score(y_test, res))\n",
    "    print(\"APatK: \", APatK(y_test, res[:, 0], K=int(y_test.shape[0] * 0.025) + 1))\n"
   ]
  },
  {
   "cell_type": "markdown",
   "metadata": {},
   "source": [
    "Проверим качество на всем тесте"
   ]
  },
  {
   "cell_type": "code",
   "execution_count": 35,
   "metadata": {},
   "outputs": [
    {
     "name": "stdout",
     "output_type": "stream",
     "text": [
      "epoch:  39\n",
      "auc:  0.993616268942\n",
      "accuracy:  0.965854235039\n",
      "APatK:  0.999845403296\n"
     ]
    }
   ],
   "source": [
    "from sklearn.metrics import accuracy_score\n",
    "X_test = [title_test, desc_test, nontext_matrix_test]\n",
    "y_test = target_test\n",
    "res = model.predict(X_test)\n",
    "print(\"epoch: \", epoch_num)\n",
    "print(\"auc: \", roc_auc_score(y_test, res))\n",
    "print(\"accuracy: \", accuracy_score(y_test, np.round(res)))\n",
    "print(\"APatK: \", APatK(y_test, res[:, 0], K=int(y_test.shape[0] * 0.025) + 1))"
   ]
  },
  {
   "cell_type": "code",
   "execution_count": 36,
   "metadata": {
    "collapsed": true
   },
   "outputs": [],
   "source": [
    "def score(final_accuracy, final_auc, final_apatk):\n",
    "    \n",
    "    print(\"\\nAUC:\")\n",
    "    if final_auc >= 0.99:\n",
    "        print(\"\\tПиши статью. (great)\")\n",
    "    elif final_auc >= 0.97:\n",
    "        print(\"\\tОтличное решение! (good)\")\n",
    "    elif final_auc >= 0.95:\n",
    "        print(\"\\tСойдёт, хотя можно ещё поднажать (ok)\")\n",
    "    elif final_auc >= 0.9:\n",
    "        print(\"\\tНеплохо, но ты можешь лучше! (not ok)\")\n",
    "    elif final_auc > 0.8:\n",
    "        print(\"\\tТы на правильном пути! (not ok)\")\n",
    "    elif final_auc > 0.65:\n",
    "        print(\"\\tДобавь жару! (not ok)\")\n",
    "    else:\n",
    "        print(\"\\tМожет быть, она недоучилась? Ну или слишком маленькая? Или в детстве болела? (not ok)\")\n",
    "    \n",
    "        \n",
    "    print(\"\\nAccuracy:\")\n",
    "    if final_accuracy >= 0.97:\n",
    "        print(\"\\tОчешуенно! (great)\")\n",
    "    elif final_accuracy >= 0.95:\n",
    "        print(\"\\tОтличный результат! (good)\")\n",
    "    elif final_accuracy >= 0.9:\n",
    "        print(\"\\tВсё ок (ok)\")\n",
    "    else:\n",
    "        print(\"Надо бы подтянуть. (not ok)\")\n",
    "\n",
    "    print(\"\\nAverage precision at K:\")\n",
    "    if final_apatk > 0.99:\n",
    "        print(\"\\tЗасабмить на kaggle! (great) \\n\\t Нет, ну честно - выкачай avito_test.tsv, засабмить и скажи, что вышло.\")\n",
    "    elif final_apatk > 0.95:\n",
    "        print(\"\\tОтличный результат (good)\")\n",
    "    elif final_apatk > 0.92:\n",
    "        print(\"\\tВы побили baseline (ok)\")\n",
    "    else:\n",
    "        print(\"\\tНадо бы поднажать (not ok)\")\n"
   ]
  },
  {
   "cell_type": "code",
   "execution_count": 40,
   "metadata": {},
   "outputs": [
    {
     "name": "stdout",
     "output_type": "stream",
     "text": [
      "\n",
      "AUC:\n",
      "\tСойдёт, хотя можно ещё поднажать (ok)\n",
      "\n",
      "Accuracy:\n",
      "\tОчешуенно! (great)\n",
      "\n",
      "Average precision at K:\n",
      "\tЗасабмить на kaggle! (great) \n",
      "\t Нет, ну честно - выкачай avito_test.tsv, засабмить и скажи, что вышло.\n"
     ]
    }
   ],
   "source": [
    "score(accuracy_score(y_test, np.round(res)), roc_auc_score(y_test, res), APatK(y_test, res[:, 0], K=int(y_test.shape[0] * 0.025) + 1))"
   ]
  },
  {
   "cell_type": "code",
   "execution_count": null,
   "metadata": {
    "collapsed": true
   },
   "outputs": [],
   "source": []
  },
  {
   "cell_type": "code",
   "execution_count": null,
   "metadata": {
    "collapsed": true
   },
   "outputs": [],
   "source": [
    "#libraries\n",
    "import lasagne\n",
    "from theano import tensor as T\n",
    "import theano"
   ]
  },
  {
   "cell_type": "code",
   "execution_count": null,
   "metadata": {
    "collapsed": true
   },
   "outputs": [],
   "source": [
    "#3 inputs and a refere output\n",
    "title_token_ids = T.matrix(\"title_token_ids\",dtype='int32')\n",
    "desc_token_ids = T.matrix(\"desc_token_ids\",dtype='int32')\n",
    "categories = T.matrix(\"categories\",dtype='float32')\n",
    "target_y = T.ivector(\"is_blocked\")"
   ]
  },
  {
   "cell_type": "markdown",
   "metadata": {},
   "source": [
    "# NN architecture"
   ]
  },
  {
   "cell_type": "code",
   "execution_count": null,
   "metadata": {
    "collapsed": true
   },
   "outputs": [],
   "source": [
    "title_inp = lasagne.layers.InputLayer((None, title_train.shape[1]), input_var=title_token_ids)\n",
    "descr_inp = lasagne.layers.InputLayer((None, desc_train.shape[1]), input_var=desc_token_ids)\n",
    "cat_inp = lasagne.layers.InputLayer((None, nontext_train.shape[1]), input_var=categories)"
   ]
  },
  {
   "cell_type": "code",
   "execution_count": null,
   "metadata": {
    "collapsed": true
   },
   "outputs": [],
   "source": [
    "# Descriptions\n",
    "\n",
    "#word-wise embedding. We recommend to start from some 64 and improving after you are certain it works.\n",
    "descr_nn = lasagne.layers.EmbeddingLayer(descr_inp, input_size=len(token_to_id)+1, output_size=?)\n",
    "descr_nn = RNN or LSTM over embedding, maybe several ones in a stack\n",
    "\n",
    "# Titles\n",
    "title_nn = <Process titles somehow (title_inp)>\n",
    "\n",
    "# Non-sequences\n",
    "cat_nn = <Process non-sequences(cat_inp)>"
   ]
  },
  {
   "cell_type": "code",
   "execution_count": null,
   "metadata": {
    "collapsed": true
   },
   "outputs": [],
   "source": [
    "nn = <merge three layers into one (e.g. lasagne.layers.concat) >                                  \n",
    "\n",
    "nn = lasagne.layers.DenseLayer(nn,your_lucky_number)\n",
    "nn = lasagne.layers.DropoutLayer(nn,p=maybe_use_me)\n",
    "nn = lasagne.layers.DenseLayer(nn,1,nonlinearity=lasagne.nonlinearities.linear)"
   ]
  },
  {
   "cell_type": "markdown",
   "metadata": {},
   "source": [
    "# Loss function\n",
    "\n",
    "* The standard way:\n",
    " * prediction\n",
    " * loss\n",
    " * updates\n",
    " * training and evaluation functions\n",
    " \n",
    " \n",
    "* Hinge loss\n",
    " * $ L_i = \\max(0, \\delta - t_i p_i) $\n",
    " * delta is a tunable parameter: how far should a neuron be in the positive margin area for us to stop bothering about it\n",
    " * Function description may mention some +-1  limitations - this is not neccessary, at least as long as hinge loss has a __default__ flag `binary = True`"
   ]
  },
  {
   "cell_type": "code",
   "execution_count": null,
   "metadata": {
    "collapsed": true
   },
   "outputs": [],
   "source": [
    "#All trainable params\n",
    "weights = lasagne.layers.get_all_params(nn,trainable=True)"
   ]
  },
  {
   "cell_type": "code",
   "execution_count": null,
   "metadata": {
    "collapsed": true
   },
   "outputs": [],
   "source": [
    "#Simple NN prediction\n",
    "prediction = lasagne.layers.get_output(nn)[:,0]\n",
    "\n",
    "#Hinge loss\n",
    "loss = lasagne.objectives.binary_hinge_loss(prediction,target_y,delta = what_do_you_think).mean()"
   ]
  },
  {
   "cell_type": "code",
   "execution_count": null,
   "metadata": {
    "collapsed": true
   },
   "outputs": [],
   "source": [
    "#Weight optimization step\n",
    "updates = <your favorite optimizer>"
   ]
  },
  {
   "cell_type": "markdown",
   "metadata": {},
   "source": [
    "### Determinitic prediction \n",
    " * In case we use stochastic elements, e.g. dropout or noize\n",
    " * Compile a separate set of functions with deterministic prediction (deterministic = True)\n",
    " * Unless you think there's no neet for dropout there ofc. Btw is there?"
   ]
  },
  {
   "cell_type": "code",
   "execution_count": null,
   "metadata": {
    "collapsed": true
   },
   "outputs": [],
   "source": [
    "#deterministic version\n",
    "det_prediction = lasagne.layers.get_output(nn,deterministic=True)[:,0]\n",
    "\n",
    "#equivalent loss function\n",
    "det_loss = <an excercise in copy-pasting and editing>"
   ]
  },
  {
   "cell_type": "markdown",
   "metadata": {},
   "source": [
    "### Coffee-lation"
   ]
  },
  {
   "cell_type": "code",
   "execution_count": null,
   "metadata": {
    "collapsed": true
   },
   "outputs": [],
   "source": [
    "train_fun = theano.function([desc_token_ids,title_token_ids,categories,target_y],[loss,prediction],updates = updates)\n",
    "eval_fun = theano.function([desc_token_ids,title_token_ids,categories,target_y],[det_loss,det_prediction])"
   ]
  },
  {
   "cell_type": "markdown",
   "metadata": {},
   "source": [
    "# Training loop\n",
    "* The regular way with loops over minibatches\n",
    "* Since the dataset is huge, we define epoch as some fixed amount of samples isntead of all dataset"
   ]
  },
  {
   "cell_type": "code",
   "execution_count": null,
   "metadata": {
    "collapsed": true
   },
   "outputs": [],
   "source": [
    "#average precision at K\n",
    "\n",
    "from oracle import APatK, score"
   ]
  },
  {
   "cell_type": "code",
   "execution_count": null,
   "metadata": {
    "collapsed": true
   },
   "outputs": [],
   "source": [
    "# Out good old minibatch iterator now supports arbitrary amount of arrays (X,y,z)\n",
    "\n",
    "def iterate_minibatches(*arrays,**kwargs):\n",
    "    batchsize=kwargs.get(\"batchsize\",100)\n",
    "    shuffle = kwargs.get(\"shuffle\",True)\n",
    "    \n",
    "    if shuffle:\n",
    "        indices = np.arange(len(arrays[0]))\n",
    "        np.random.shuffle(indices)\n",
    "    for start_idx in range(0, len(arrays[0]) - batchsize + 1, batchsize):\n",
    "        if shuffle:\n",
    "            excerpt = indices[start_idx:start_idx + batchsize]\n",
    "        else:\n",
    "            excerpt = slice(start_idx, start_idx + batchsize)\n",
    "        yield [arr[excerpt] for arr in arrays]"
   ]
  },
  {
   "cell_type": "markdown",
   "metadata": {},
   "source": [
    "### Tweaking guide\n",
    "\n",
    "* batch_size - how many samples are processed per function call\n",
    "  * optimization gets slower, but more stable, as you increase it.\n",
    "  * May consider increasing it halfway through training\n",
    "* minibatches_per_epoch - max amount of minibatches per epoch\n",
    "  * Does not affect training. Lesser value means more frequent and less stable printing\n",
    "  * Setting it to less than 10 is only meaningfull if you want to make sure your NN does not break down after one epoch\n",
    "* n_epochs - total amount of epochs to train for\n",
    "  * `n_epochs = 10**10` and manual interrupting is still an option\n",
    "\n",
    "\n",
    "Tips:\n",
    "\n",
    "* With small minibatches_per_epoch, network quality may jump around 0.5 for several epochs\n",
    "\n",
    "* AUC is the most stable of all three metrics\n",
    "\n",
    "* Average Precision at top 2.5% (APatK) - is the least stable. If batch_size*minibatches_per_epoch < 10k, it behaves as a uniform random variable.\n",
    "\n",
    "* Plotting metrics over training time may be a good way to analyze which architectures work better.\n",
    "\n",
    "* Once you are sure your network aint gonna crash, it's worth letting it train for a few hours of an average laptop's time to see it's true potential"
   ]
  },
  {
   "cell_type": "code",
   "execution_count": null,
   "metadata": {
    "collapsed": true
   },
   "outputs": [],
   "source": [
    "from sklearn.metrics import roc_auc_score, accuracy_score\n",
    "\n",
    "n_epochs = 100\n",
    "batch_size = 100\n",
    "minibatches_per_epoch = 100\n",
    "\n",
    "for i in range(n_epochs):\n",
    "    #training\n",
    "    epoch_y_true = []\n",
    "    epoch_y_pred = []\n",
    "    \n",
    "    b_c = b_loss = 0\n",
    "    for j, (b_desc,b_title,b_cat, b_y) in enumerate(\n",
    "        iterate_minibatches(desc_tr,title_tr,nontext_tr,target_tr,batchsize=batch_size,shuffle=True)):\n",
    "        if j > minibatches_per_epoch:break\n",
    "            \n",
    "        loss,pred_probas = train_fun(b_desc,b_title,b_cat,b_y)\n",
    "        \n",
    "        b_loss += loss\n",
    "        b_c +=1\n",
    "        \n",
    "        epoch_y_true.append(b_y)\n",
    "        epoch_y_pred.append(pred_probas)\n",
    "    \n",
    "    epoch_y_true = np.concatenate(epoch_y_true)\n",
    "    epoch_y_pred = np.concatenate(epoch_y_pred)\n",
    "    \n",
    "    print \"Train:\"\n",
    "    print '\\tloss:',b_loss/b_c\n",
    "    print '\\tacc:',accuracy_score(epoch_y_true,epoch_y_pred>0.)\n",
    "    print '\\tauc:',roc_auc_score(epoch_y_true,epoch_y_pred)\n",
    "    print '\\tap@k:',APatK(epoch_y_true,epoch_y_pred,K = int(len(epoch_y_pred)*0.025)+1)\n",
    "    \n",
    "    #evaluation\n",
    "    epoch_y_true = []\n",
    "    epoch_y_pred = []\n",
    "    b_c = b_loss = 0\n",
    "    for j, (b_desc,b_title,b_cat, b_y) in enumerate(\n",
    "        iterate_minibatches(desc_ts,title_ts,nontext_tr,target_ts,batchsize=batch_size,shuffle=True)):\n",
    "        if j > minibatches_per_epoch: break\n",
    "        loss,pred_probas = eval_fun(b_desc,b_title,b_cat,b_y)\n",
    "        \n",
    "        b_loss += loss\n",
    "        b_c +=1\n",
    "        \n",
    "        epoch_y_true.append(b_y)\n",
    "        epoch_y_pred.append(pred_probas)\n",
    "\n",
    "    epoch_y_true = np.concatenate(epoch_y_true)\n",
    "    epoch_y_pred = np.concatenate(epoch_y_pred)\n",
    "    \n",
    "    print \"Val:\"\n",
    "    print '\\tloss:',b_loss/b_c\n",
    "    print '\\tacc:',accuracy_score(epoch_y_true,epoch_y_pred>0.)\n",
    "    print '\\tauc:',roc_auc_score(epoch_y_true,epoch_y_pred)\n",
    "    print '\\tap@k:',APatK(epoch_y_true,epoch_y_pred,K = int(len(epoch_y_pred)*0.025)+1)"
   ]
  },
  {
   "cell_type": "code",
   "execution_count": null,
   "metadata": {
    "collapsed": true
   },
   "outputs": [],
   "source": [
    "print \"If you are seeing this, it's time to backup your notebook. No, really, 'tis too easy to mess up everything without noticing. \""
   ]
  },
  {
   "cell_type": "markdown",
   "metadata": {},
   "source": [
    "# Final evaluation\n",
    "Evaluate network over the entire test set"
   ]
  },
  {
   "cell_type": "code",
   "execution_count": null,
   "metadata": {
    "collapsed": true
   },
   "outputs": [],
   "source": [
    "#evaluation\n",
    "epoch_y_true = []\n",
    "epoch_y_pred = []\n",
    "\n",
    "b_c = b_loss = 0\n",
    "for j, (b_desc,b_title,b_cat, b_y) in enumerate(\n",
    "    iterate_minibatches(desc_ts,title_ts,nontext_tr,target_ts,batchsize=batch_size,shuffle=True)):\n",
    "    loss,pred_probas = eval_fun(b_desc,b_title,b_cat,b_y)\n",
    "\n",
    "    b_loss += loss\n",
    "    b_c +=1\n",
    "\n",
    "    epoch_y_true.append(b_y)\n",
    "    epoch_y_pred.append(pred_probas)\n",
    "\n",
    "\n",
    "epoch_y_true = np.concatenate(epoch_y_true)\n",
    "epoch_y_pred = np.concatenate(epoch_y_pred)\n",
    "\n",
    "final_accuracy = accuracy_score(epoch_y_true,epoch_y_pred>0)\n",
    "final_auc = roc_auc_score(epoch_y_true,epoch_y_pred)\n",
    "final_apatk = APatK(epoch_y_true,epoch_y_pred,K = int(len(epoch_y_pred)*0.025)+1)\n",
    "\n",
    "print \"Scores:\"\n",
    "print '\\tloss:',b_loss/b_c\n",
    "print '\\tacc:',final_accuracy\n",
    "print '\\tauc:',final_auc\n",
    "print '\\tap@k:',final_apatk\n",
    "score(final_accuracy,final_auc,final_apatk)"
   ]
  },
  {
   "cell_type": "markdown",
   "metadata": {},
   "source": [
    "# Main task\n",
    "\n",
    "* https://goo.gl/forms/eJwIeAbjxzVuo6vn1\n",
    "* Feel like Le'Cun:\n",
    " * accuracy > 0.95\n",
    " * AUC > 0.97\n",
    " * Average Precision at (test sample size * 0.025) > 0.99\n",
    " * And perhaps even farther\n",
    "\n",
    "* Casual mode\n",
    " * accuracy > 0.90\n",
    " * AUC > 0.95\n",
    " * Average Precision at (test sample size * 0.025) > 0.92\n",
    "\n",
    "* Remember the training, Luke\n",
    " * Dropout, regularization\n",
    " * Mommentum, RMSprop, ada*\n",
    " * etc etc etc\n",
    " \n",
    " * If you have background in texts, there may be a way to improve tokenizer, add some lemmatization, etc etc.\n",
    " * In case you know how not to shoot yourself in the foot with RNNs, they too may be of some use."
   ]
  },
  {
   "cell_type": "code",
   "execution_count": null,
   "metadata": {
    "collapsed": true
   },
   "outputs": [],
   "source": [
    "|"
   ]
  }
 ],
 "metadata": {
  "kernelspec": {
   "display_name": "Python 3",
   "language": "python",
   "name": "python3"
  },
  "language_info": {
   "codemirror_mode": {
    "name": "ipython",
    "version": 3
   },
   "file_extension": ".py",
   "mimetype": "text/x-python",
   "name": "python",
   "nbconvert_exporter": "python",
   "pygments_lexer": "ipython3",
   "version": "3.4.3"
  }
 },
 "nbformat": 4,
 "nbformat_minor": 1
}
